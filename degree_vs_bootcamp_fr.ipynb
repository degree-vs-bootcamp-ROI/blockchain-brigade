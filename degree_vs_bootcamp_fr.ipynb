{
 "cells": [
  {
   "cell_type": "code",
   "execution_count": 41,
   "metadata": {},
   "outputs": [],
   "source": [
    "# Dependencies\n",
    "import requests\n",
    "from pprint import pprint\n",
    "#from config_om import api_key\n",
    "#from config_ab import api_key\n",
    "#from config_kr import bls_key\n",
    "from config_fr import g_key\n",
    "import pandas as pd\n",
    "import numpy as np\n",
    "import matplotlib.pyplot as plt\n",
    "import os\n",
    "\n",
    "\n",
    "#url = \"https://api.nytimes.com/svc/search/v2/articlesearch.json?\"\n",
    "#url"
   ]
  },
  {
   "cell_type": "code",
   "execution_count": 42,
   "metadata": {},
   "outputs": [],
   "source": [
    "# Import source data\n",
    "glassdoor_file = pd.read_csv(\"./remote_resources/glassdoor/glassdoor.csv\")\n",
    "stackoverflow_file = pd.read_csv(\"./remote_resources/stackoverflow/2019-survey/survey_results_public_prepped.csv\")\n",
    "h1b1_visas_file = pd.read_csv(\"./remote_resources/h1b-visas/h1b18_prepped.csv\", encoding= \"UTF-8\")\n"
   ]
  },
  {
   "cell_type": "code",
   "execution_count": 43,
   "metadata": {},
   "outputs": [
    {
     "data": {
      "text/plain": [
       "MainBranch                1897\n",
       "Hobbyist                  1897\n",
       "Employment                1897\n",
       "Country                   1897\n",
       "Student                   1897\n",
       "EdLevel                   1897\n",
       "EduOther                  1897\n",
       "OrgSize                   1897\n",
       "DevType                   1897\n",
       "YearsCode                 1897\n",
       "YearsCodePro              1897\n",
       "CareerSat                 1897\n",
       "JobSat                    1897\n",
       "CompTotal                 1897\n",
       "ConvertedComp             1897\n",
       "WorkWeekHrs               1897\n",
       "LanguageWorkedWith        1897\n",
       "LanguageDesireNextYear    1897\n",
       "DatabaseWorkedWith        1897\n",
       "DatabaseDesireNextYear    1897\n",
       "PlatformWorkedWith        1897\n",
       "PlatformDesireNextYear    1897\n",
       "Age                       1897\n",
       "Gender                    1897\n",
       "Ethnicity                 1897\n",
       "DataScienceDomain         1897\n",
       "dtype: int64"
      ]
     },
     "execution_count": 43,
     "metadata": {},
     "output_type": "execute_result"
    }
   ],
   "source": [
    "# Prepare Stack Overflow Survey data for analysis (Filtering to a subset of Columns)\n",
    "stack_overflow_filtered_columns = stackoverflow_file[['MainBranch','Hobbyist','Employment','Country','Student','EdLevel','EduOther','OrgSize','DevType','YearsCode','YearsCodePro','CareerSat','JobSat','CompTotal','ConvertedComp','WorkWeekHrs','LanguageWorkedWith','LanguageDesireNextYear','DatabaseWorkedWith','DatabaseDesireNextYear','PlatformWorkedWith','PlatformDesireNextYear','Age','Gender','Ethnicity', 'DataScienceDomain'\n",
    "]]\n",
    "\n",
    "# Isolate US based surveys, with a Data Science Domain for which the records are complete (i.e. 'NaNs' removed)\n",
    "stack_overflow_filtered_USOnly = stack_overflow_filtered_columns.loc[stack_overflow_filtered_columns['Country'] == 'United States']\n",
    "stack_overflow_filtered_DataScienceDomain_USOnly = stack_overflow_filtered_USOnly.loc[stack_overflow_filtered_USOnly['DataScienceDomain'] == True]\n",
    "stack_overflow_df = pd.DataFrame(stack_overflow_filtered_DataScienceDomain_USOnly.dropna())\n",
    "stack_overflow_df.count()"
   ]
  },
  {
   "cell_type": "code",
   "execution_count": 44,
   "metadata": {},
   "outputs": [],
   "source": [
    "# Define Categories for Analysis\n",
    "# group by education level\n",
    "so_groupby_edu = stack_overflow_df.groupby('EdLevel') \n",
    "\n",
    "# group by gender\n",
    "so_groupby_gender = stack_overflow_df.groupby('Gender')\n",
    "\n",
    "so_groupby_devtype = stack_overflow_df.groupby('DevType')\n",
    "\n",
    "so_groupby_age = stack_overflow_df.groupby('Age')\n",
    "\n",
    "so_groupby_emp = stack_overflow_df.groupby('Employment')\n",
    "\n",
    "so_groupby_mainbranch = stack_overflow_df.groupby('MainBranch')\n",
    "\n",
    "so_groupby_degree_DevType = stack_overflow_df.groupby(['EdLevel','DevType'] ).agg({'Age': ['count']})\n",
    "\n",
    "#print(glassdoor_file.head())\n",
    "#print(stackoverflow_file.head())"
   ]
  },
  {
   "cell_type": "code",
   "execution_count": 45,
   "metadata": {},
   "outputs": [
    {
     "name": "stdout",
     "output_type": "stream",
     "text": [
      "['Master’s degree (MA, MS, M.Eng., MBA, etc.)'\n",
      " 'Some college/university study without earning a degree'\n",
      " 'Bachelor’s degree (BA, BS, B.Eng., etc.)'\n",
      " 'Other doctoral degree (Ph.D, Ed.D., etc.)'\n",
      " 'Secondary school (e.g. American high school, German Realschule or Gymnasium, etc.)'\n",
      " 'Associate degree' 'Professional degree (JD, MD, etc.)'\n",
      " 'I never completed any formal education' 'Primary/elementary school']\n",
      "----------------------------------------------------------------------------------------------\n",
      "['Data or business analyst;Database administrator;Developer, back-end;Developer, desktop or enterprise applications;Developer, front-end;Developer, full-stack;Developer, mobile;DevOps specialist;Engineer, data;Engineer, site reliability;Engineering manager;Senior executive/VP;System administrator'\n",
      " 'Data or business analyst;Designer;Developer, back-end;Developer, desktop or enterprise applications;Developer, front-end;Developer, full-stack;DevOps specialist;System administrator'\n",
      " 'Developer, full-stack;DevOps specialist;Engineer, data' ...\n",
      " 'Database administrator;Designer;Developer, back-end;Developer, front-end;Developer, full-stack;Developer, mobile;Developer, QA or test;DevOps specialist;Engineer, data;Engineer, site reliability;Engineering manager;Product manager;Senior executive/VP;System administrator'\n",
      " 'Developer, back-end;Developer, desktop or enterprise applications;Developer, full-stack;Developer, QA or test;Scientist'\n",
      " 'Data scientist or machine learning specialist;Developer, desktop or enterprise applications;Developer, full-stack;DevOps specialist']\n"
     ]
    }
   ],
   "source": [
    "print(stack_overflow_df['EdLevel'].unique())\n",
    "print(\"-----------------------------------------------\"*2)\n",
    "print(stack_overflow_df['DevType'].unique())"
   ]
  },
  {
   "cell_type": "code",
   "execution_count": 55,
   "metadata": {},
   "outputs": [],
   "source": [
    "h1b1_visas_file_filtered_columns = h1b1_visas_file[['CASE_STATUS', 'CASE_SUBMITTED', 'DECISION_DATE', 'EMPLOYER_NAME', 'EMPLOYER_CITY', 'EMPLOYER_STATE', 'EMPLOYER_POSTAL_CODE', 'JOB_TITLE', 'SOC_NAME', 'FULL_TIME_POSITION', 'PREVAILING_WAGE', 'PW_UNIT_OF_PAY', 'WAGE_RATE_OF_PAY_FROM','Domain', 'Role' ]]\n",
    "h1b1_visas_file_certified = h1b1_visas_file_filtered_columns.loc[h1b1_visas_file_filtered_columns['CASE_STATUS']=='CERTIFIED']\n",
    "h1b1_visas_file_certified_dropna = h1b1_visas_file_certified.dropna()\n",
    "h1b1_visas_file_certified_year = h1b1_visas_file_certified_dropna.loc[h1b1_visas_file_certified_dropna['PW_UNIT_OF_PAY'] == 'Year']"
   ]
  },
  {
   "cell_type": "code",
   "execution_count": null,
   "metadata": {},
   "outputs": [],
   "source": [
    "#query = \"data science\"\n",
    "#query\n",
    "#query_url = url + \"api-key=\" + api_key + \"&q=\" + query\n",
    "#query_url"
   ]
  },
  {
   "cell_type": "code",
   "execution_count": 56,
   "metadata": {
    "scrolled": false
   },
   "outputs": [
    {
     "data": {
      "text/html": [
       "<div>\n",
       "<style scoped>\n",
       "    .dataframe tbody tr th:only-of-type {\n",
       "        vertical-align: middle;\n",
       "    }\n",
       "\n",
       "    .dataframe tbody tr th {\n",
       "        vertical-align: top;\n",
       "    }\n",
       "\n",
       "    .dataframe thead th {\n",
       "        text-align: right;\n",
       "    }\n",
       "</style>\n",
       "<table border=\"1\" class=\"dataframe\">\n",
       "  <thead>\n",
       "    <tr style=\"text-align: right;\">\n",
       "      <th></th>\n",
       "      <th>CASE_STATUS</th>\n",
       "      <th>CASE_SUBMITTED</th>\n",
       "      <th>DECISION_DATE</th>\n",
       "      <th>EMPLOYER_NAME</th>\n",
       "      <th>EMPLOYER_CITY</th>\n",
       "      <th>EMPLOYER_STATE</th>\n",
       "      <th>EMPLOYER_POSTAL_CODE</th>\n",
       "      <th>JOB_TITLE</th>\n",
       "      <th>SOC_NAME</th>\n",
       "      <th>FULL_TIME_POSITION</th>\n",
       "      <th>PREVAILING_WAGE</th>\n",
       "      <th>PW_UNIT_OF_PAY</th>\n",
       "      <th>WAGE_RATE_OF_PAY_FROM</th>\n",
       "      <th>Domain</th>\n",
       "      <th>Role</th>\n",
       "    </tr>\n",
       "  </thead>\n",
       "  <tbody>\n",
       "    <tr>\n",
       "      <td>129</td>\n",
       "      <td>CERTIFIED</td>\n",
       "      <td>2/28/2018</td>\n",
       "      <td>3/6/2018</td>\n",
       "      <td>MOTOROLA MOBILITY LLC</td>\n",
       "      <td>CHICAGO</td>\n",
       "      <td>IL</td>\n",
       "      <td>60654</td>\n",
       "      <td>ENGINEER, MACHINE LEARNING AND AI</td>\n",
       "      <td>ELECTRONICS ENGINEERS, EXCEPT COMPUTER</td>\n",
       "      <td>Y</td>\n",
       "      <td>79784.0</td>\n",
       "      <td>Year</td>\n",
       "      <td>79784.0</td>\n",
       "      <td>Data Science</td>\n",
       "      <td>Machine Learning</td>\n",
       "    </tr>\n",
       "    <tr>\n",
       "      <td>173</td>\n",
       "      <td>CERTIFIED</td>\n",
       "      <td>3/7/2018</td>\n",
       "      <td>3/13/2018</td>\n",
       "      <td>SAPPHIRE IT SERVICES INC</td>\n",
       "      <td>STAFFORD</td>\n",
       "      <td>TX</td>\n",
       "      <td>77477</td>\n",
       "      <td>DATA INTEGRATION PROGRAMMER</td>\n",
       "      <td>SOFTWARE DEVELOPERS, APPLICATIONS</td>\n",
       "      <td>Y</td>\n",
       "      <td>90646.0</td>\n",
       "      <td>Year</td>\n",
       "      <td>91200.0</td>\n",
       "      <td>Data Science</td>\n",
       "      <td>Data Integration</td>\n",
       "    </tr>\n",
       "    <tr>\n",
       "      <td>232</td>\n",
       "      <td>CERTIFIED</td>\n",
       "      <td>3/2/2018</td>\n",
       "      <td>3/8/2018</td>\n",
       "      <td>FEDERAL HOME LOAN MORTGAGE CO.</td>\n",
       "      <td>MCLEAN</td>\n",
       "      <td>VA</td>\n",
       "      <td>22102</td>\n",
       "      <td>QUANTITATIVE ANALYTICS MANAGER</td>\n",
       "      <td>FINANCIAL MANAGERS</td>\n",
       "      <td>Y</td>\n",
       "      <td>113400.0</td>\n",
       "      <td>Year</td>\n",
       "      <td>113400.0</td>\n",
       "      <td>Data Science</td>\n",
       "      <td>Analytics</td>\n",
       "    </tr>\n",
       "    <tr>\n",
       "      <td>249</td>\n",
       "      <td>CERTIFIED</td>\n",
       "      <td>3/8/2018</td>\n",
       "      <td>3/14/2018</td>\n",
       "      <td>EXLSERVICE.COM, LLC</td>\n",
       "      <td>NEW YORK</td>\n",
       "      <td>NY</td>\n",
       "      <td>10017</td>\n",
       "      <td>SENIOR ANALYTICS CONSULTANT</td>\n",
       "      <td>STATISTICIANS</td>\n",
       "      <td>Y</td>\n",
       "      <td>83400.0</td>\n",
       "      <td>Year</td>\n",
       "      <td>83400.0</td>\n",
       "      <td>Data Science</td>\n",
       "      <td>Analytics</td>\n",
       "    </tr>\n",
       "    <tr>\n",
       "      <td>315</td>\n",
       "      <td>CERTIFIED</td>\n",
       "      <td>2/27/2018</td>\n",
       "      <td>3/5/2018</td>\n",
       "      <td>HOTWIRE, INC.</td>\n",
       "      <td>SAN FRANCISCO</td>\n",
       "      <td>CA</td>\n",
       "      <td>94104</td>\n",
       "      <td>BUSINESS INTELLIGENCE MANAGER (15-1199.08)</td>\n",
       "      <td>COMPUTER OCCUPATIONS, ALL OTHER</td>\n",
       "      <td>Y</td>\n",
       "      <td>111847.0</td>\n",
       "      <td>Year</td>\n",
       "      <td>111847.0</td>\n",
       "      <td>Data Science</td>\n",
       "      <td>Business Intelligence</td>\n",
       "    </tr>\n",
       "    <tr>\n",
       "      <td>...</td>\n",
       "      <td>...</td>\n",
       "      <td>...</td>\n",
       "      <td>...</td>\n",
       "      <td>...</td>\n",
       "      <td>...</td>\n",
       "      <td>...</td>\n",
       "      <td>...</td>\n",
       "      <td>...</td>\n",
       "      <td>...</td>\n",
       "      <td>...</td>\n",
       "      <td>...</td>\n",
       "      <td>...</td>\n",
       "      <td>...</td>\n",
       "      <td>...</td>\n",
       "      <td>...</td>\n",
       "    </tr>\n",
       "    <tr>\n",
       "      <td>653733</td>\n",
       "      <td>CERTIFIED</td>\n",
       "      <td>3/1/2018</td>\n",
       "      <td>3/7/2018</td>\n",
       "      <td>INFOTREE SERVICE, INC.</td>\n",
       "      <td>PLYMOUTH</td>\n",
       "      <td>MI</td>\n",
       "      <td>48170</td>\n",
       "      <td>DATA ANALYST III</td>\n",
       "      <td>OPERATIONS RESEARCH ANALYSTS</td>\n",
       "      <td>Y</td>\n",
       "      <td>67746.0</td>\n",
       "      <td>Year</td>\n",
       "      <td>67746.0</td>\n",
       "      <td>Data Science</td>\n",
       "      <td>Data Analyst</td>\n",
       "    </tr>\n",
       "    <tr>\n",
       "      <td>653824</td>\n",
       "      <td>CERTIFIED</td>\n",
       "      <td>3/29/2018</td>\n",
       "      <td>4/4/2018</td>\n",
       "      <td>VISA U.S.A. INC.</td>\n",
       "      <td>FOSTER CITY</td>\n",
       "      <td>CA</td>\n",
       "      <td>94404</td>\n",
       "      <td>ANALYST, ANALYTICS AND DATA PRODUCTS</td>\n",
       "      <td>OPERATIONS RESEARCH ANALYSTS</td>\n",
       "      <td>Y</td>\n",
       "      <td>82763.0</td>\n",
       "      <td>Year</td>\n",
       "      <td>82763.0</td>\n",
       "      <td>Data Science</td>\n",
       "      <td>Analytics</td>\n",
       "    </tr>\n",
       "    <tr>\n",
       "      <td>653885</td>\n",
       "      <td>CERTIFIED</td>\n",
       "      <td>2/22/2018</td>\n",
       "      <td>3/1/2018</td>\n",
       "      <td>ACCENTURE LLP</td>\n",
       "      <td>CHICAGO</td>\n",
       "      <td>IL</td>\n",
       "      <td>60601</td>\n",
       "      <td>FUNCTIONAL AND INDUSTRY ANALYTICS MANAGER</td>\n",
       "      <td>COMPUTER AND INFORMATION SYSTEMS MANAGERS</td>\n",
       "      <td>Y</td>\n",
       "      <td>145184.0</td>\n",
       "      <td>Year</td>\n",
       "      <td>145184.0</td>\n",
       "      <td>Data Science</td>\n",
       "      <td>Analytics</td>\n",
       "    </tr>\n",
       "    <tr>\n",
       "      <td>654347</td>\n",
       "      <td>CERTIFIED</td>\n",
       "      <td>10/27/2017</td>\n",
       "      <td>11/2/2017</td>\n",
       "      <td>VISUAL CONSULTANTS INC</td>\n",
       "      <td>NEW HOPE</td>\n",
       "      <td>MN</td>\n",
       "      <td>55428</td>\n",
       "      <td>ETL/BIG DATA ANALYST</td>\n",
       "      <td>SOFTWARE DEVELOPERS, APPLICATIONS</td>\n",
       "      <td>Y</td>\n",
       "      <td>78624.0</td>\n",
       "      <td>Year</td>\n",
       "      <td>92019.0</td>\n",
       "      <td>Data Science</td>\n",
       "      <td>Data Analyst</td>\n",
       "    </tr>\n",
       "    <tr>\n",
       "      <td>654356</td>\n",
       "      <td>CERTIFIED</td>\n",
       "      <td>3/5/2018</td>\n",
       "      <td>3/9/2018</td>\n",
       "      <td>BRUNSWICK CORPORATION</td>\n",
       "      <td>METTAWA</td>\n",
       "      <td>IL</td>\n",
       "      <td>60045</td>\n",
       "      <td>MANAGER GLOBAL SUPPLY CHAIN BUSINESS ANALYTICS</td>\n",
       "      <td>INDUSTRIAL ENGINEERS</td>\n",
       "      <td>Y</td>\n",
       "      <td>68598.0</td>\n",
       "      <td>Year</td>\n",
       "      <td>74000.0</td>\n",
       "      <td>Data Science</td>\n",
       "      <td>Analytics</td>\n",
       "    </tr>\n",
       "  </tbody>\n",
       "</table>\n",
       "<p>10730 rows × 15 columns</p>\n",
       "</div>"
      ],
      "text/plain": [
       "       CASE_STATUS CASE_SUBMITTED DECISION_DATE  \\\n",
       "129      CERTIFIED      2/28/2018      3/6/2018   \n",
       "173      CERTIFIED       3/7/2018     3/13/2018   \n",
       "232      CERTIFIED       3/2/2018      3/8/2018   \n",
       "249      CERTIFIED       3/8/2018     3/14/2018   \n",
       "315      CERTIFIED      2/27/2018      3/5/2018   \n",
       "...            ...            ...           ...   \n",
       "653733   CERTIFIED       3/1/2018      3/7/2018   \n",
       "653824   CERTIFIED      3/29/2018      4/4/2018   \n",
       "653885   CERTIFIED      2/22/2018      3/1/2018   \n",
       "654347   CERTIFIED     10/27/2017     11/2/2017   \n",
       "654356   CERTIFIED       3/5/2018      3/9/2018   \n",
       "\n",
       "                         EMPLOYER_NAME  EMPLOYER_CITY EMPLOYER_STATE  \\\n",
       "129              MOTOROLA MOBILITY LLC        CHICAGO             IL   \n",
       "173           SAPPHIRE IT SERVICES INC       STAFFORD             TX   \n",
       "232     FEDERAL HOME LOAN MORTGAGE CO.         MCLEAN             VA   \n",
       "249                EXLSERVICE.COM, LLC       NEW YORK             NY   \n",
       "315                      HOTWIRE, INC.  SAN FRANCISCO             CA   \n",
       "...                                ...            ...            ...   \n",
       "653733          INFOTREE SERVICE, INC.       PLYMOUTH             MI   \n",
       "653824                VISA U.S.A. INC.    FOSTER CITY             CA   \n",
       "653885                   ACCENTURE LLP        CHICAGO             IL   \n",
       "654347          VISUAL CONSULTANTS INC       NEW HOPE             MN   \n",
       "654356           BRUNSWICK CORPORATION        METTAWA             IL   \n",
       "\n",
       "       EMPLOYER_POSTAL_CODE                                       JOB_TITLE  \\\n",
       "129                   60654               ENGINEER, MACHINE LEARNING AND AI   \n",
       "173                   77477                     DATA INTEGRATION PROGRAMMER   \n",
       "232                   22102                  QUANTITATIVE ANALYTICS MANAGER   \n",
       "249                   10017                     SENIOR ANALYTICS CONSULTANT   \n",
       "315                   94104      BUSINESS INTELLIGENCE MANAGER (15-1199.08)   \n",
       "...                     ...                                             ...   \n",
       "653733                48170                                DATA ANALYST III   \n",
       "653824                94404            ANALYST, ANALYTICS AND DATA PRODUCTS   \n",
       "653885                60601       FUNCTIONAL AND INDUSTRY ANALYTICS MANAGER   \n",
       "654347                55428                            ETL/BIG DATA ANALYST   \n",
       "654356                60045  MANAGER GLOBAL SUPPLY CHAIN BUSINESS ANALYTICS   \n",
       "\n",
       "                                         SOC_NAME FULL_TIME_POSITION  \\\n",
       "129        ELECTRONICS ENGINEERS, EXCEPT COMPUTER                  Y   \n",
       "173             SOFTWARE DEVELOPERS, APPLICATIONS                  Y   \n",
       "232                            FINANCIAL MANAGERS                  Y   \n",
       "249                                 STATISTICIANS                  Y   \n",
       "315               COMPUTER OCCUPATIONS, ALL OTHER                  Y   \n",
       "...                                           ...                ...   \n",
       "653733               OPERATIONS RESEARCH ANALYSTS                  Y   \n",
       "653824               OPERATIONS RESEARCH ANALYSTS                  Y   \n",
       "653885  COMPUTER AND INFORMATION SYSTEMS MANAGERS                  Y   \n",
       "654347          SOFTWARE DEVELOPERS, APPLICATIONS                  Y   \n",
       "654356                       INDUSTRIAL ENGINEERS                  Y   \n",
       "\n",
       "        PREVAILING_WAGE PW_UNIT_OF_PAY  WAGE_RATE_OF_PAY_FROM        Domain  \\\n",
       "129             79784.0           Year                79784.0  Data Science   \n",
       "173             90646.0           Year                91200.0  Data Science   \n",
       "232            113400.0           Year               113400.0  Data Science   \n",
       "249             83400.0           Year                83400.0  Data Science   \n",
       "315            111847.0           Year               111847.0  Data Science   \n",
       "...                 ...            ...                    ...           ...   \n",
       "653733          67746.0           Year                67746.0  Data Science   \n",
       "653824          82763.0           Year                82763.0  Data Science   \n",
       "653885         145184.0           Year               145184.0  Data Science   \n",
       "654347          78624.0           Year                92019.0  Data Science   \n",
       "654356          68598.0           Year                74000.0  Data Science   \n",
       "\n",
       "                         Role  \n",
       "129          Machine Learning  \n",
       "173          Data Integration  \n",
       "232                 Analytics  \n",
       "249                 Analytics  \n",
       "315     Business Intelligence  \n",
       "...                       ...  \n",
       "653733           Data Analyst  \n",
       "653824              Analytics  \n",
       "653885              Analytics  \n",
       "654347           Data Analyst  \n",
       "654356              Analytics  \n",
       "\n",
       "[10730 rows x 15 columns]"
      ]
     },
     "execution_count": 56,
     "metadata": {},
     "output_type": "execute_result"
    }
   ],
   "source": [
    "h1b1_visas_data_science = pd.DataFrame(h1b1_visas_file_certified_year.loc[h1b1_visas_file_certified_year['Domain'] == 'Data Science'])\n",
    "#df[\"A\"] = pd.to_numeric(df[\"A\"], downcast=\"float\")\n",
    "h1b1_visas_data_science['PREVAILING_WAGE'] = pd.to_numeric(h1b1_visas_data_science['PREVAILING_WAGE'], downcast = 'float', errors ='ignore')\n",
    "h1b1_visas_data_science"
   ]
  },
  {
   "cell_type": "code",
   "execution_count": 57,
   "metadata": {},
   "outputs": [],
   "source": [
    "grp_data_science_role = h1b1_visas_data_science.groupby('Role')\n",
    "grp_data_science_state = h1b1_visas_data_science.groupby('EMPLOYER_STATE')\n",
    "grp_data_science_state_and_role = h1b1_visas_data_science.groupby(['EMPLOYER_STATE', 'Role'])\n"
   ]
  },
  {
   "cell_type": "code",
   "execution_count": 85,
   "metadata": {},
   "outputs": [],
   "source": [
    "h1b1_avg_salary_by_state_and_role = pd.DataFrame(grp_data_science_state_and_role['PREVAILING_WAGE'].mean()).reset_index()\n"
   ]
  },
  {
   "cell_type": "code",
   "execution_count": 84,
   "metadata": {},
   "outputs": [],
   "source": [
    "h1b1_avg_salary_ny = h1b1_avg_salary_by_state_and_role.loc[h1b1_avg_salary_by_state_and_role['EMPLOYER_STATE'] == 'NY']\n",
    "h1b1_avg_salary_nj = h1b1_avg_salary_by_state_and_role.loc[h1b1_avg_salary_by_state_and_role['EMPLOYER_STATE'] == 'NJ']\n",
    "h1b1_avg_salary_ca = h1b1_avg_salary_by_state_and_role.loc[h1b1_avg_salary_by_state_and_role['EMPLOYER_STATE'] == 'CA']\n"
   ]
  },
  {
   "cell_type": "code",
   "execution_count": 87,
   "metadata": {},
   "outputs": [
    {
     "data": {
      "text/plain": [
       "['Analytics',\n",
       " 'Business Intelligence',\n",
       " 'Data Analyst',\n",
       " 'Data Engineer',\n",
       " 'Data Integration',\n",
       " 'Data Risk Analyst',\n",
       " 'Data Scientist',\n",
       " 'Data Visualization',\n",
       " 'Machine Learning']"
      ]
     },
     "execution_count": 87,
     "metadata": {},
     "output_type": "execute_result"
    }
   ],
   "source": [
    "roles = []\n",
    "for role in (h1b1_avg_salary_ny['Role']):\n",
    "    roles.append(role)\n",
    "roles"
   ]
  },
  {
   "cell_type": "code",
   "execution_count": 88,
   "metadata": {},
   "outputs": [],
   "source": [
    "salary = []\n",
    "for sal in (h1b1_avg_salary_ny['PREVAILING_WAGE']):\n",
    "    salary.append(sal)\n"
   ]
  },
  {
   "cell_type": "code",
   "execution_count": 115,
   "metadata": {},
   "outputs": [
    {
     "data": {
      "text/plain": [
       "Text(0, 0.5, 'Average Salary')"
      ]
     },
     "execution_count": 115,
     "metadata": {},
     "output_type": "execute_result"
    },
    {
     "data": {
      "image/png": "[encoded data removed]",
      "text/plain": [
       "<Figure size 1440x720 with 1 Axes>"
      ]
     },
     "metadata": {
      "needs_background": "light"
     },
     "output_type": "display_data"
    }
   ],
   "source": [
    "x_axis = np.arange(len(roles))\n",
    "plt.figure(figsize=(20,10))\n",
    "plt.bar(x_axis, salary, color='blue', alpha=0.5, align=\"center\")\n",
    "tick_locations = [value for value in x_axis]\n",
    "plt.xticks(tick_locations, roles, rotation=\"horizontal\")\n",
    "#plt.xlim(-0.75, len(x_axis)-0.25)\n",
    "plt.ylim(0, max(salary)+20000)\n",
    "\n",
    "# Give our chart some labels and a tile\n",
    "plt.title(\"Average Salary for H1 Visas\")\n",
    "plt.xlabel(\"Role\")\n",
    "plt.ylabel(\"Average Salary\")"
   ]
  },
  {
   "cell_type": "code",
   "execution_count": null,
   "metadata": {},
   "outputs": [],
   "source": []
  },
  {
   "cell_type": "code",
   "execution_count": null,
   "metadata": {},
   "outputs": [],
   "source": []
  },
  {
   "cell_type": "code",
   "execution_count": 86,
   "metadata": {},
   "outputs": [],
   "source": [
    "h1b1_counts_by_state_and_role = pd.DataFrame(grp_data_science_state_and_role['PREVAILING_WAGE'].count()).reset_index()\n"
   ]
  },
  {
   "cell_type": "code",
   "execution_count": 67,
   "metadata": {},
   "outputs": [],
   "source": [
    "h1b1_counts_by_state_and_role_ny = h1b1_counts_by_state_and_role.loc[h1b1_counts_by_state_and_role['EMPLOYER_STATE'] == 'NY']\n",
    "h1b1_counts_by_state_and_role_nj = h1b1_counts_by_state_and_role.loc[h1b1_counts_by_state_and_role['EMPLOYER_STATE'] == 'NJ']\n",
    "h1b1_counts_by_state_and_role_ca = h1b1_counts_by_state_and_role.loc[h1b1_counts_by_state_and_role['EMPLOYER_STATE'] == 'CA']"
   ]
  },
  {
   "cell_type": "code",
   "execution_count": 78,
   "metadata": {},
   "outputs": [
    {
     "data": {
      "text/plain": [
       "['Analytics',\n",
       " 'Business Intelligence',\n",
       " 'Data Analyst',\n",
       " 'Data Engineer',\n",
       " 'Data Integration',\n",
       " 'Data Risk Analyst',\n",
       " 'Data Scientist',\n",
       " 'Data Visualization',\n",
       " 'Machine Learning']"
      ]
     },
     "execution_count": 78,
     "metadata": {},
     "output_type": "execute_result"
    }
   ],
   "source": [
    "roles = []\n",
    "for role in (h1b1_counts_by_state_and_role_ny['Role']):\n",
    "    roles.append(role)\n",
    "roles\n",
    "\n"
   ]
  },
  {
   "cell_type": "code",
   "execution_count": 79,
   "metadata": {},
   "outputs": [
    {
     "data": {
      "text/plain": [
       "[397, 151, 219, 1, 14, 81, 47, 16, 35]"
      ]
     },
     "execution_count": 79,
     "metadata": {},
     "output_type": "execute_result"
    }
   ],
   "source": [
    "counts = []\n",
    "for count in (h1b1_counts_by_state_and_role_ny['PREVAILING_WAGE']):\n",
    "    counts.append(count)\n",
    "counts"
   ]
  },
  {
   "cell_type": "code",
   "execution_count": 120,
   "metadata": {},
   "outputs": [
    {
     "data": {
      "text/plain": [
       "Text(0, 0.5, 'Number of H1 Visas')"
      ]
     },
     "execution_count": 120,
     "metadata": {},
     "output_type": "execute_result"
    },
    {
     "data": {
      "image/png": "[encoded data removed]",
      "text/plain": [
       "<Figure size 1440x720 with 1 Axes>"
      ]
     },
     "metadata": {
      "needs_background": "light"
     },
     "output_type": "display_data"
    }
   ],
   "source": [
    "x_axis = np.arange(len(roles))\n",
    "plt.figure(figsize=(20,10))\n",
    "plt.bar(x_axis, counts, color='indigo', alpha=0.5, align=\"center\")\n",
    "tick_locations = [value for value in x_axis]\n",
    "plt.xticks(tick_locations, roles)\n",
    "plt.xlim(-0.75, len(x_axis)-0.25)\n",
    "plt.ylim(0, max(counts)+25)\n",
    "\n",
    "# Give our chart some labels and a tile\n",
    "plt.title(\"NY Data Science Visas by Role\")\n",
    "plt.xlabel(\"Role\")\n",
    "plt.ylabel(\"Number of H1 Visas\")"
   ]
  },
  {
   "cell_type": "code",
   "execution_count": null,
   "metadata": {},
   "outputs": [],
   "source": [
    "#articles = requests.get(query_url).json()\n",
    "#articles"
   ]
  },
  {
   "cell_type": "code",
   "execution_count": null,
   "metadata": {},
   "outputs": [],
   "source": [
    "#articles_list = articles[\"response\"][\"docs\"]\n",
    "#pprint(articles_list)"
   ]
  },
  {
   "cell_type": "code",
   "execution_count": null,
   "metadata": {},
   "outputs": [],
   "source": [
    "print(\"Your Reading List\")\n",
    "for article in articles_list:\n",
    "    print(article[\"web_url\"])"
   ]
  }
 ],
 "metadata": {
  "kernelspec": {
   "display_name": "Python 3",
   "language": "python",
   "name": "python3"
  },
  "language_info": {
   "codemirror_mode": {
    "name": "ipython",
    "version": 3
   },
   "file_extension": ".py",
   "mimetype": "text/x-python",
   "name": "python",
   "nbconvert_exporter": "python",
   "pygments_lexer": "ipython3",
   "version": "3.7.4"
  }
 },
 "nbformat": 4,
 "nbformat_minor": 2
}
