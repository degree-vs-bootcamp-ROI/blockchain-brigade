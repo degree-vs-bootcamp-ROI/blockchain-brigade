{
 "cells": [
  {
   "cell_type": "code",
   "execution_count": 1,
   "metadata": {},
   "outputs": [],
   "source": [
    "# Dependencies\n",
    "import requests\n",
    "from pprint import pprint\n",
    "#from config_om import api_key\n",
    "#from config_ab import api_key\n",
    "#from config_kr import bls_key\n",
    "from config_am import api_key\n",
    "import pandas as pd\n",
    "import numpy as np\n",
    "import matplotlib.pyplot as plt\n",
    "import os\n",
    "\n",
    "\n",
    "#url = \"https://api.nytimes.com/svc/search/v2/articlesearch.json?\"\n",
    "#url\n"
   ]
  },
  {
   "cell_type": "code",
   "execution_count": 2,
   "metadata": {},
   "outputs": [],
   "source": [
    "# Import source data\n",
    "glassdoor_file = pd.read_csv(\"./remote_resources/glassdoor/glassdoor.csv\")\n",
    "stackoverflow_file = pd.read_csv(\"./remote_resources/stackoverflow/2019-survey/survey_results_public_prepped.csv\")\n",
    "h1b1_visas_file = pd.read_csv(\"./remote_resources/h1b-visas/h1b18.csv\")\n"
   ]
  },
  {
   "cell_type": "code",
   "execution_count": 3,
   "metadata": {},
   "outputs": [],
   "source": [
    "# Prepare Stack Overflow Survey data for analysis (Filtering to a subset of Columns)\n",
    "stack_overflow_filtered_columns = stackoverflow_file[['MainBranch','Hobbyist','Employment','Country','Student','EdLevel','EduOther','OrgSize','DevType','YearsCode','YearsCodePro','CareerSat','JobSat','CompTotal','ConvertedComp','WorkWeekHrs','LanguageWorkedWith','LanguageDesireNextYear','DatabaseWorkedWith','DatabaseDesireNextYear','PlatformWorkedWith','PlatformDesireNextYear','Age','Gender','Ethnicity', 'DataScienceDomain'\n",
    "]]"
   ]
  },
  {
   "cell_type": "code",
   "execution_count": 4,
   "metadata": {},
   "outputs": [
    {
     "data": {
      "text/plain": [
       "MainBranch                1897\n",
       "Hobbyist                  1897\n",
       "Employment                1897\n",
       "Country                   1897\n",
       "Student                   1897\n",
       "EdLevel                   1897\n",
       "EduOther                  1897\n",
       "OrgSize                   1897\n",
       "DevType                   1897\n",
       "YearsCode                 1897\n",
       "YearsCodePro              1897\n",
       "CareerSat                 1897\n",
       "JobSat                    1897\n",
       "CompTotal                 1897\n",
       "ConvertedComp             1897\n",
       "WorkWeekHrs               1897\n",
       "LanguageWorkedWith        1897\n",
       "LanguageDesireNextYear    1897\n",
       "DatabaseWorkedWith        1897\n",
       "DatabaseDesireNextYear    1897\n",
       "PlatformWorkedWith        1897\n",
       "PlatformDesireNextYear    1897\n",
       "Age                       1897\n",
       "Gender                    1897\n",
       "Ethnicity                 1897\n",
       "DataScienceDomain         1897\n",
       "dtype: int64"
      ]
     },
     "execution_count": 4,
     "metadata": {},
     "output_type": "execute_result"
    }
   ],
   "source": [
    "# Isolate US based surveys, with a Data Science Domain for which the records are complete (i.e. 'NaNs' removed)\n",
    "stack_overflow_filtered_USOnly = stack_overflow_filtered_columns.loc[stack_overflow_filtered_columns['Country'] == 'United States']\n",
    "stack_overflow_filtered_DataScienceDomain_USOnly = stack_overflow_filtered_USOnly.loc[stack_overflow_filtered_USOnly['DataScienceDomain'] == True]\n",
    "stack_overflow_df = pd.DataFrame(stack_overflow_filtered_DataScienceDomain_USOnly.dropna())\n",
    "stack_overflow_df.count()"
   ]
  },
  {
   "cell_type": "code",
   "execution_count": 5,
   "metadata": {},
   "outputs": [],
   "source": [
    "# Define Categories for Analysis\n",
    "# group by education level\n",
    "so_groupby_edu = stack_overflow_df.groupby('EdLevel') "
   ]
  },
  {
   "cell_type": "code",
   "execution_count": 6,
   "metadata": {},
   "outputs": [],
   "source": [
    "# group by gender\n",
    "so_groupby_gender = stack_overflow_df.groupby('Gender')\n",
    "\n",
    "so_groupby_devtype = stack_overflow_df.groupby('DevType')\n",
    "\n",
    "so_groupby_age = stack_overflow_df.groupby('Age')\n",
    "\n",
    "so_groupby_emp = stack_overflow_df.groupby('Employment')\n",
    "\n",
    "so_groupby_mainbranch = stack_overflow_df.groupby('MainBranch')\n",
    "\n",
    "so_groupby_degree_DevType = stack_overflow_df.groupby(['EdLevel','DevType'] ).agg({'Age': ['count']})\n",
    "\n",
    "#print(glassdoor_file.head())\n",
    "#print(stackoverflow_file.head())"
   ]
  },
  {
   "cell_type": "code",
   "execution_count": 7,
   "metadata": {},
   "outputs": [
    {
     "name": "stdout",
     "output_type": "stream",
     "text": [
      "['Master’s degree (MA, MS, M.Eng., MBA, etc.)'\n",
      " 'Some college/university study without earning a degree'\n",
      " 'Bachelor’s degree (BA, BS, B.Eng., etc.)'\n",
      " 'Other doctoral degree (Ph.D, Ed.D., etc.)'\n",
      " 'Secondary school (e.g. American high school, German Realschule or Gymnasium, etc.)'\n",
      " 'Associate degree' 'Professional degree (JD, MD, etc.)'\n",
      " 'I never completed any formal education' 'Primary/elementary school']\n",
      "----------------------------------------------------------------------------------------------\n",
      "['Data or business analyst;Database administrator;Developer, back-end;Developer, desktop or enterprise applications;Developer, front-end;Developer, full-stack;Developer, mobile;DevOps specialist;Engineer, data;Engineer, site reliability;Engineering manager;Senior executive/VP;System administrator'\n",
      " 'Data or business analyst;Designer;Developer, back-end;Developer, desktop or enterprise applications;Developer, front-end;Developer, full-stack;DevOps specialist;System administrator'\n",
      " 'Developer, full-stack;DevOps specialist;Engineer, data' ...\n",
      " 'Database administrator;Designer;Developer, back-end;Developer, front-end;Developer, full-stack;Developer, mobile;Developer, QA or test;DevOps specialist;Engineer, data;Engineer, site reliability;Engineering manager;Product manager;Senior executive/VP;System administrator'\n",
      " 'Developer, back-end;Developer, desktop or enterprise applications;Developer, full-stack;Developer, QA or test;Scientist'\n",
      " 'Data scientist or machine learning specialist;Developer, desktop or enterprise applications;Developer, full-stack;DevOps specialist']\n"
     ]
    }
   ],
   "source": [
    "print(stack_overflow_df['EdLevel'].unique())\n",
    "print(\"-----------------------------------------------\"*2)\n",
    "print(stack_overflow_df['DevType'].unique())"
   ]
  },
  {
   "cell_type": "code",
   "execution_count": 8,
   "metadata": {},
   "outputs": [
    {
     "name": "stdout",
     "output_type": "stream",
     "text": [
      "EdLevel\n",
      "Associate degree                                                                       69\n",
      "Bachelor’s degree (BA, BS, B.Eng., etc.)                                              940\n",
      "I never completed any formal education                                                  7\n",
      "Master’s degree (MA, MS, M.Eng., MBA, etc.)                                           477\n",
      "Other doctoral degree (Ph.D, Ed.D., etc.)                                             145\n",
      "Primary/elementary school                                                               7\n",
      "Professional degree (JD, MD, etc.)                                                      7\n",
      "Secondary school (e.g. American high school, German Realschule or Gymnasium, etc.)     38\n",
      "Some college/university study without earning a degree                                207\n",
      "Name: Gender, dtype: int64\n",
      "----------------------------------------------------------------------------------------------\n"
     ]
    }
   ],
   "source": [
    "so_groupby_mainbranch['Gender'].count()\n",
    "print(so_groupby_edu['Gender'].count())\n",
    "print(\"-----------------------------------------------\"*2)\n",
    "#print(so_groupby_devtype['Gender'].count())"
   ]
  },
  {
   "cell_type": "code",
   "execution_count": 57,
   "metadata": {},
   "outputs": [],
   "source": [
    "stack_overflow_educlean_df = stack_overflow_df['EdLevel'].replace({'Master’s degree (MA, MS, M.Eng., MBA, etc.)':\"Masters\",\n",
    "       'Some college/university study without earning a degree':'Non Degree',\n",
    "       'Bachelor’s degree (BA, BS, B.Eng., etc.)':'Bachelors',\n",
    "       'Other doctoral degree (Ph.D, Ed.D., etc.)':'Doctoral',\n",
    "       'Secondary school (e.g. American high school, German Realschule or Gymnasium, etc.)':'Non Degree',\n",
    "       'Associate degree':'Associates', 'Professional degree (JD, MD, etc.)':'Masters',\n",
    "       'I never completed any formal education':'Non Degree',\n",
    "       'Primary/elementary school':'Non Degree'}).reset_index()"
   ]
  },
  {
   "cell_type": "code",
   "execution_count": 58,
   "metadata": {},
   "outputs": [
    {
     "data": {
      "text/html": [
       "<div>\n",
       "<style scoped>\n",
       "    .dataframe tbody tr th:only-of-type {\n",
       "        vertical-align: middle;\n",
       "    }\n",
       "\n",
       "    .dataframe tbody tr th {\n",
       "        vertical-align: top;\n",
       "    }\n",
       "\n",
       "    .dataframe thead th {\n",
       "        text-align: right;\n",
       "    }\n",
       "</style>\n",
       "<table border=\"1\" class=\"dataframe\">\n",
       "  <thead>\n",
       "    <tr style=\"text-align: right;\">\n",
       "      <th></th>\n",
       "      <th>index</th>\n",
       "      <th>0</th>\n",
       "    </tr>\n",
       "  </thead>\n",
       "  <tbody>\n",
       "    <tr>\n",
       "      <td>0</td>\n",
       "      <td>0</td>\n",
       "      <td>Masters</td>\n",
       "    </tr>\n",
       "    <tr>\n",
       "      <td>1</td>\n",
       "      <td>1</td>\n",
       "      <td>Non Degree</td>\n",
       "    </tr>\n",
       "    <tr>\n",
       "      <td>2</td>\n",
       "      <td>2</td>\n",
       "      <td>Bachelors</td>\n",
       "    </tr>\n",
       "    <tr>\n",
       "      <td>3</td>\n",
       "      <td>3</td>\n",
       "      <td>Doctoral</td>\n",
       "    </tr>\n",
       "    <tr>\n",
       "      <td>4</td>\n",
       "      <td>4</td>\n",
       "      <td>Associates</td>\n",
       "    </tr>\n",
       "  </tbody>\n",
       "</table>\n",
       "</div>"
      ],
      "text/plain": [
       "   index           0\n",
       "0      0     Masters\n",
       "1      1  Non Degree\n",
       "2      2   Bachelors\n",
       "3      3    Doctoral\n",
       "4      4  Associates"
      ]
     },
     "execution_count": 58,
     "metadata": {},
     "output_type": "execute_result"
    }
   ],
   "source": [
    "so_unique_edulevel_df = pd.DataFrame(stack_overflow_educlean_df['EdLevel'].unique()).reset_index()\n",
    "so_unique_edulevel_df"
   ]
  },
  {
   "cell_type": "code",
   "execution_count": 59,
   "metadata": {},
   "outputs": [],
   "source": [
    "del so_unique_edulevel_df['index']\n"
   ]
  },
  {
   "cell_type": "code",
   "execution_count": 60,
   "metadata": {},
   "outputs": [],
   "source": [
    "so_unique_edulevel_rename_column_df = so_unique_edulevel_df.rename(columns={'0':'EdLevel'})\n",
    "\n"
   ]
  },
  {
   "cell_type": "code",
   "execution_count": 61,
   "metadata": {},
   "outputs": [
    {
     "data": {
      "text/html": [
       "<div>\n",
       "<style scoped>\n",
       "    .dataframe tbody tr th:only-of-type {\n",
       "        vertical-align: middle;\n",
       "    }\n",
       "\n",
       "    .dataframe tbody tr th {\n",
       "        vertical-align: top;\n",
       "    }\n",
       "\n",
       "    .dataframe thead th {\n",
       "        text-align: right;\n",
       "    }\n",
       "</style>\n",
       "<table border=\"1\" class=\"dataframe\">\n",
       "  <thead>\n",
       "    <tr style=\"text-align: right;\">\n",
       "      <th></th>\n",
       "      <th>EdLevel</th>\n",
       "    </tr>\n",
       "  </thead>\n",
       "  <tbody>\n",
       "    <tr>\n",
       "      <td>0</td>\n",
       "      <td>Masters</td>\n",
       "    </tr>\n",
       "    <tr>\n",
       "      <td>1</td>\n",
       "      <td>Non Degree</td>\n",
       "    </tr>\n",
       "    <tr>\n",
       "      <td>2</td>\n",
       "      <td>Bachelors</td>\n",
       "    </tr>\n",
       "    <tr>\n",
       "      <td>3</td>\n",
       "      <td>Doctoral</td>\n",
       "    </tr>\n",
       "    <tr>\n",
       "      <td>4</td>\n",
       "      <td>Associates</td>\n",
       "    </tr>\n",
       "  </tbody>\n",
       "</table>\n",
       "</div>"
      ],
      "text/plain": [
       "      EdLevel\n",
       "0     Masters\n",
       "1  Non Degree\n",
       "2   Bachelors\n",
       "3    Doctoral\n",
       "4  Associates"
      ]
     },
     "execution_count": 61,
     "metadata": {},
     "output_type": "execute_result"
    }
   ],
   "source": [
    "so_unique_edulevel_df.rename(columns={0:'EdLevel'})\n"
   ]
  },
  {
   "cell_type": "code",
   "execution_count": 62,
   "metadata": {},
   "outputs": [
    {
     "data": {
      "text/html": [
       "<div>\n",
       "<style scoped>\n",
       "    .dataframe tbody tr th:only-of-type {\n",
       "        vertical-align: middle;\n",
       "    }\n",
       "\n",
       "    .dataframe tbody tr th {\n",
       "        vertical-align: top;\n",
       "    }\n",
       "\n",
       "    .dataframe thead th {\n",
       "        text-align: right;\n",
       "    }\n",
       "</style>\n",
       "<table border=\"1\" class=\"dataframe\">\n",
       "  <thead>\n",
       "    <tr style=\"text-align: right;\">\n",
       "      <th></th>\n",
       "      <th>0</th>\n",
       "    </tr>\n",
       "  </thead>\n",
       "  <tbody>\n",
       "    <tr>\n",
       "      <td>0</td>\n",
       "      <td>Masters</td>\n",
       "    </tr>\n",
       "    <tr>\n",
       "      <td>1</td>\n",
       "      <td>Non Degree</td>\n",
       "    </tr>\n",
       "    <tr>\n",
       "      <td>2</td>\n",
       "      <td>Bachelors</td>\n",
       "    </tr>\n",
       "    <tr>\n",
       "      <td>3</td>\n",
       "      <td>Doctoral</td>\n",
       "    </tr>\n",
       "    <tr>\n",
       "      <td>4</td>\n",
       "      <td>Associates</td>\n",
       "    </tr>\n",
       "  </tbody>\n",
       "</table>\n",
       "</div>"
      ],
      "text/plain": [
       "            0\n",
       "0     Masters\n",
       "1  Non Degree\n",
       "2   Bachelors\n",
       "3    Doctoral\n",
       "4  Associates"
      ]
     },
     "execution_count": 62,
     "metadata": {},
     "output_type": "execute_result"
    }
   ],
   "source": [
    "so_unique_edulevel_rename_column_df"
   ]
  },
  {
   "cell_type": "code",
   "execution_count": 63,
   "metadata": {},
   "outputs": [
    {
     "name": "stdout",
     "output_type": "stream",
     "text": [
      "      EdLevel  index\n",
      "0  Associates     69\n",
      "1   Bachelors    940\n",
      "2    Doctoral    145\n",
      "3     Masters    484\n",
      "4  Non Degree    259\n"
     ]
    }
   ],
   "source": [
    "edulevel_clean_grp = stack_overflow_educlean_df.groupby('EdLevel')\n",
    "\n",
    "so_counts_by_edulevel = edulevel_clean_grp['index'].count().reset_index()\n",
    "\n",
    "print(so_counts_by_edulevel)"
   ]
  },
  {
   "cell_type": "code",
   "execution_count": 69,
   "metadata": {},
   "outputs": [
    {
     "name": "stdout",
     "output_type": "stream",
     "text": [
      "['Masters', 'Non Degree', 'Bachelors', 'Doctoral', 'Associates']\n"
     ]
    }
   ],
   "source": [
    "#create pie chart \n",
    "#Labels for the sections of our pie chart\n",
    "#labels = [\"Never Completed formal Education\", \"Bachelors Degree\", \"Masters Degree\", \"Some College\"]\n",
    "labels = []\n",
    "for label in (so_unique_edulevel_df[0]):\n",
    "    labels.append(label)\n",
    "\n",
    "print(labels)"
   ]
  },
  {
   "cell_type": "code",
   "execution_count": 70,
   "metadata": {},
   "outputs": [
    {
     "name": "stdout",
     "output_type": "stream",
     "text": [
      "[69, 940, 145, 484, 259]\n"
     ]
    }
   ],
   "source": [
    "# The values of each section of the pie chart\n",
    "sizes = []\n",
    "for size in (so_counts_by_edulevel['index']):\n",
    "    sizes.append(size)\n",
    "    \n",
    "print(sizes)\n"
   ]
  },
  {
   "cell_type": "code",
   "execution_count": 71,
   "metadata": {},
   "outputs": [],
   "source": [
    "# The colors of each section of the pie chart\n",
    "colors = [\"red\", \"orange\", \"lightcoral\", \"lightskyblue\", \"yellow\"]"
   ]
  },
  {
   "cell_type": "code",
   "execution_count": 72,
   "metadata": {},
   "outputs": [],
   "source": [
    "# Tells matplotlib to seperate the \"Never Completed Formal Education\" section from the others\n",
    "explode = (0.1, 0, 0, 0, 0)\n"
   ]
  },
  {
   "cell_type": "code",
   "execution_count": 73,
   "metadata": {},
   "outputs": [
    {
     "data": {
      "text/plain": [
       "([<matplotlib.patches.Wedge at 0x2af097d8f88>,\n",
       "  <matplotlib.patches.Wedge at 0x2af097e3ac8>,\n",
       "  <matplotlib.patches.Wedge at 0x2af097ea708>,\n",
       "  <matplotlib.patches.Wedge at 0x2af097f43c8>,\n",
       "  <matplotlib.patches.Wedge at 0x2af097fc288>],\n",
       " [Text(-1.0012080319316798, 0.6615001714251422, 'Masters'),\n",
       "  Text(-0.511533202823874, -0.9738243077725826, 'Non Degree'),\n",
       "  Text(1.0637009341138768, -0.28025046434442596, 'Bachelors'),\n",
       "  Text(0.7788543303656831, 0.7767792041955188, 'Doctoral'),\n",
       "  Text(-0.4722511526660379, 0.9934680914883973, 'Associates')],\n",
       " [Text(-0.5840380186268133, 0.3858750999979995, '3.6%'),\n",
       "  Text(-0.279018110631204, -0.5311768951486813, '49.6%'),\n",
       "  Text(0.5802005095166599, -0.15286388964241412, '7.6%'),\n",
       "  Text(0.42482963474491797, 0.4236977477430102, '25.5%'),\n",
       "  Text(-0.25759153781783883, 0.5418916862663985, '13.7%')])"
      ]
     },
     "execution_count": 73,
     "metadata": {},
     "output_type": "execute_result"
    },
    {
     "data": {
      "image/png": "[encoded data removed]",
      "text/plain": [
       "<Figure size 432x288 with 1 Axes>"
      ]
     },
     "metadata": {},
     "output_type": "display_data"
    }
   ],
   "source": [
    "# find % for each label charted \n",
    "plt.pie(sizes, explode=explode, labels=labels, colors=colors,\n",
    "        autopct=\"%1.1f%%\", shadow=True, startangle=140)\n",
    "\n"
   ]
  },
  {
   "cell_type": "code",
   "execution_count": 74,
   "metadata": {},
   "outputs": [
    {
     "data": {
      "text/plain": [
       "(-0.05, 1.05, -0.05, 1.05)"
      ]
     },
     "execution_count": 74,
     "metadata": {},
     "output_type": "execute_result"
    },
    {
     "data": {
      "image/png": "[encoded data removed]",
      "text/plain": [
       "<Figure size 432x288 with 1 Axes>"
      ]
     },
     "metadata": {
      "needs_background": "light"
     },
     "output_type": "display_data"
    }
   ],
   "source": [
    " # equal axes \n",
    "plt.axis(\"equal\")"
   ]
  },
  {
   "cell_type": "code",
   "execution_count": null,
   "metadata": {},
   "outputs": [],
   "source": []
  }
 ],
 "metadata": {
  "kernelspec": {
   "display_name": "Python 3",
   "language": "python",
   "name": "python3"
  },
  "language_info": {
   "codemirror_mode": {
    "name": "ipython",
    "version": 3
   },
   "file_extension": ".py",
   "mimetype": "text/x-python",
   "name": "python",
   "nbconvert_exporter": "python",
   "pygments_lexer": "ipython3",
   "version": "3.7.4"
  }
 },
 "nbformat": 4,
 "nbformat_minor": 2
}
