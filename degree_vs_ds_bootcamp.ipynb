{
 "cells": [
  {
   "cell_type": "code",
   "execution_count": 1,
   "metadata": {},
   "outputs": [],
   "source": [
    "\n",
    "# Dependencies\n",
    "import requests\n",
    "from pprint import pprint\n",
    "#from config_om import api_key\n",
    "#from config_ab import api_key\n",
    "from config_kr import api_key\n",
    "#from config_fr import g_key\n",
    "import pandas as pd\n",
    "import numpy as np\n",
    "import matplotlib.pyplot as plt\n",
    "import os\n",
    "import time\n",
    "import datetime"
   ]
  },
  {
   "cell_type": "code",
   "execution_count": 2,
   "metadata": {},
   "outputs": [],
   "source": [
    "# Import source data\n",
    "stackoverflow_file = pd.read_csv(\"./remote_resources/stackoverflow/2019-survey/survey_results_public_prepped.csv\")\n",
    "h1b1_visas_file = pd.read_csv(\"./remote_resources/h1b-visas/h1b18_prepped.csv\", encoding= \"UTF-8\")"
   ]
  },
  {
   "cell_type": "code",
   "execution_count": 3,
   "metadata": {},
   "outputs": [
    {
     "data": {
      "text/plain": [
       "'https://api.nytimes.com/svc/search/v2/articlesearch.json?'"
      ]
     },
     "execution_count": 3,
     "metadata": {},
     "output_type": "execute_result"
    }
   ],
   "source": [
    "url = \"https://api.nytimes.com/svc/search/v2/articlesearch.json?\"\n",
    "url"
   ]
  },
  {
   "cell_type": "code",
   "execution_count": 4,
   "metadata": {},
   "outputs": [],
   "source": [
    "# Search parameters for articles that mention machine learning\n",
    "query = \"machine learning\"\n",
    "begin_date = \"20100101\"\n",
    "end_date = \"20191231\""
   ]
  },
  {
   "cell_type": "code",
   "execution_count": 5,
   "metadata": {},
   "outputs": [],
   "source": [
    "articles_list = []\n",
    "\n",
    "#loop through pages 0-10\n",
    "for page in range(0, 10):\n",
    "    query_url = f\"{url}api-key={api_key}&q={query}&begin_date={begin_date}&end_date={end_date}\"\n",
    "     #create query with page number\n",
    "    query_url = f\"{query_url}&page={str(page)}\"\n",
    "    articles = requests.get(query_url).json()\n",
    "    \n",
    "    # Add a one second interval between queries to stay within API query limits\n",
    "    time.sleep(2)\n",
    "    # loop through the response and append each article to the list\n",
    "    for article in articles[\"response\"][\"docs\"]:\n",
    "        articles_list.append(article)"
   ]
  },
  {
   "cell_type": "code",
   "execution_count": 6,
   "metadata": {},
   "outputs": [
    {
     "data": {
      "text/plain": [
       "{'abstract': 'Microsoft plans to make predictive data analysis, now an arcane field, a standard part of business. The company says that a product due out in July will simplify what are now expensive, difficult processes.',\n",
       " 'web_url': 'https://bits.blogs.nytimes.com/2014/06/16/microsoft-unveils-machine-learning-for-the-masses/',\n",
       " 'snippet': 'Microsoft plans to make predictive data analysis, now an arcane field, a standard part of business. The company says that a product due out in July will simplify what are now expensive, difficult processes.',\n",
       " 'lead_paragraph': 'Microsoft has a new strategy to win cloud business: A supposedly comprehensive predictive analysis service — and all you have to do is store your data in Azure, the Microsoft cloud.',\n",
       " 'source': 'The New York Times',\n",
       " 'multimedia': [{'rank': 0,\n",
       "   'subtype': 'wide',\n",
       "   'caption': None,\n",
       "   'credit': None,\n",
       "   'type': 'image',\n",
       "   'url': 'images/2014/06/16/technology/16bits/16bits-thumbWide-v4.jpg',\n",
       "   'height': 126,\n",
       "   'width': 190,\n",
       "   'legacy': {'widewidth': 190,\n",
       "    'wideheight': 126,\n",
       "    'wide': 'images/2014/06/16/technology/16bits/16bits-thumbWide-v4.jpg'},\n",
       "   'subType': 'wide',\n",
       "   'crop_name': 'thumbWide'},\n",
       "  {'rank': 0,\n",
       "   'subtype': 'videoThumb',\n",
       "   'caption': None,\n",
       "   'credit': None,\n",
       "   'type': 'image',\n",
       "   'url': 'images/2014/06/16/technology/16bits/16bits-videoThumb-v4.jpg',\n",
       "   'height': 50,\n",
       "   'width': 75,\n",
       "   'legacy': {},\n",
       "   'subType': 'videoThumb',\n",
       "   'crop_name': 'videoThumb'},\n",
       "  {'rank': 0,\n",
       "   'subtype': 'mediumThreeByTwo210',\n",
       "   'caption': None,\n",
       "   'credit': None,\n",
       "   'type': 'image',\n",
       "   'url': 'images/2014/06/16/technology/16bits/16bits-mediumThreeByTwo210-v4.jpg',\n",
       "   'height': 140,\n",
       "   'width': 210,\n",
       "   'legacy': {},\n",
       "   'subType': 'mediumThreeByTwo210',\n",
       "   'crop_name': 'mediumThreeByTwo210'},\n",
       "  {'rank': 0,\n",
       "   'subtype': 'mediumThreeByTwo225',\n",
       "   'caption': None,\n",
       "   'credit': None,\n",
       "   'type': 'image',\n",
       "   'url': 'images/2014/06/16/technology/16bits/16bits-mediumThreeByTwo225-v4.jpg',\n",
       "   'height': 150,\n",
       "   'width': 225,\n",
       "   'legacy': {},\n",
       "   'subType': 'mediumThreeByTwo225',\n",
       "   'crop_name': 'mediumThreeByTwo225'},\n",
       "  {'rank': 0,\n",
       "   'subtype': 'miniMoth',\n",
       "   'caption': None,\n",
       "   'credit': None,\n",
       "   'type': 'image',\n",
       "   'url': 'images/2014/06/16/technology/16bits/16bits-miniMoth-v2.jpg',\n",
       "   'height': 70,\n",
       "   'width': 151,\n",
       "   'legacy': {},\n",
       "   'subType': 'miniMoth',\n",
       "   'crop_name': 'miniMoth'},\n",
       "  {'rank': 0,\n",
       "   'subtype': 'jumbo',\n",
       "   'caption': None,\n",
       "   'credit': None,\n",
       "   'type': 'image',\n",
       "   'url': 'images/2014/06/16/technology/16bits/16bits-jumbo.jpg',\n",
       "   'height': 370,\n",
       "   'width': 334,\n",
       "   'legacy': {},\n",
       "   'subType': 'jumbo',\n",
       "   'crop_name': 'jumbo'},\n",
       "  {'rank': 0,\n",
       "   'subtype': 'blog225',\n",
       "   'caption': None,\n",
       "   'credit': None,\n",
       "   'type': 'image',\n",
       "   'url': 'images/2014/06/16/technology/16bits/16bits-blog225.jpg',\n",
       "   'height': 249,\n",
       "   'width': 225,\n",
       "   'legacy': {},\n",
       "   'subType': 'blog225',\n",
       "   'crop_name': 'blog225'},\n",
       "  {'rank': 0,\n",
       "   'subtype': 'master180',\n",
       "   'caption': None,\n",
       "   'credit': None,\n",
       "   'type': 'image',\n",
       "   'url': 'images/2014/06/16/technology/16bits/16bits-master180.jpg',\n",
       "   'height': 199,\n",
       "   'width': 180,\n",
       "   'legacy': {},\n",
       "   'subType': 'master180',\n",
       "   'crop_name': 'master180'},\n",
       "  {'rank': 0,\n",
       "   'subtype': 'popup',\n",
       "   'caption': None,\n",
       "   'credit': None,\n",
       "   'type': 'image',\n",
       "   'url': 'images/2014/06/16/technology/16bits/16bits-popup.jpg',\n",
       "   'height': 370,\n",
       "   'width': 334,\n",
       "   'legacy': {},\n",
       "   'subType': 'popup',\n",
       "   'crop_name': 'popup'},\n",
       "  {'rank': 0,\n",
       "   'subtype': 'slide',\n",
       "   'caption': None,\n",
       "   'credit': None,\n",
       "   'type': 'image',\n",
       "   'url': 'images/2014/06/16/technology/16bits/16bits-slide.jpg',\n",
       "   'height': 370,\n",
       "   'width': 334,\n",
       "   'legacy': {},\n",
       "   'subType': 'slide',\n",
       "   'crop_name': 'slide'},\n",
       "  {'rank': 0,\n",
       "   'subtype': 'superJumbo',\n",
       "   'caption': None,\n",
       "   'credit': None,\n",
       "   'type': 'image',\n",
       "   'url': 'images/2014/06/16/technology/16bits/16bits-superJumbo.jpg',\n",
       "   'height': 370,\n",
       "   'width': 334,\n",
       "   'legacy': {},\n",
       "   'subType': 'superJumbo',\n",
       "   'crop_name': 'superJumbo'},\n",
       "  {'rank': 0,\n",
       "   'subtype': 'master315',\n",
       "   'caption': None,\n",
       "   'credit': None,\n",
       "   'type': 'image',\n",
       "   'url': 'images/2014/06/16/technology/16bits/16bits-master315.jpg',\n",
       "   'height': 349,\n",
       "   'width': 315,\n",
       "   'legacy': {},\n",
       "   'subType': 'master315',\n",
       "   'crop_name': 'master315'},\n",
       "  {'rank': 0,\n",
       "   'subtype': 'square320',\n",
       "   'caption': None,\n",
       "   'credit': None,\n",
       "   'type': 'image',\n",
       "   'url': 'images/2014/06/16/technology/16bits/16bits-square320.jpg',\n",
       "   'height': 320,\n",
       "   'width': 320,\n",
       "   'legacy': {},\n",
       "   'subType': 'square320',\n",
       "   'crop_name': 'square320'},\n",
       "  {'rank': 0,\n",
       "   'subtype': 'filmstrip',\n",
       "   'caption': None,\n",
       "   'credit': None,\n",
       "   'type': 'image',\n",
       "   'url': 'images/2014/06/16/technology/16bits/16bits-filmstrip.jpg',\n",
       "   'height': 190,\n",
       "   'width': 190,\n",
       "   'legacy': {},\n",
       "   'subType': 'filmstrip',\n",
       "   'crop_name': 'filmstrip'},\n",
       "  {'rank': 0,\n",
       "   'subtype': 'moth',\n",
       "   'caption': None,\n",
       "   'credit': None,\n",
       "   'type': 'image',\n",
       "   'url': 'images/2014/06/16/technology/16bits/16bits-moth.jpg',\n",
       "   'height': 151,\n",
       "   'width': 151,\n",
       "   'legacy': {},\n",
       "   'subType': 'moth',\n",
       "   'crop_name': 'moth'},\n",
       "  {'rank': 0,\n",
       "   'subtype': 'mediumSquare149',\n",
       "   'caption': None,\n",
       "   'credit': None,\n",
       "   'type': 'image',\n",
       "   'url': 'images/2014/06/16/technology/16bits/16bits-mediumSquare149.jpg',\n",
       "   'height': 149,\n",
       "   'width': 149,\n",
       "   'legacy': {},\n",
       "   'subType': 'mediumSquare149',\n",
       "   'crop_name': 'mediumSquare149'},\n",
       "  {'rank': 0,\n",
       "   'subtype': 'articleInline',\n",
       "   'caption': None,\n",
       "   'credit': None,\n",
       "   'type': 'image',\n",
       "   'url': 'images/2014/06/16/technology/16bits/16bits-articleInline-v2.jpg',\n",
       "   'height': 210,\n",
       "   'width': 190,\n",
       "   'legacy': {},\n",
       "   'subType': 'articleInline',\n",
       "   'crop_name': 'articleInline'},\n",
       "  {'rank': 0,\n",
       "   'subtype': 'hpSmall',\n",
       "   'caption': None,\n",
       "   'credit': None,\n",
       "   'type': 'image',\n",
       "   'url': 'images/2014/06/16/technology/16bits/16bits-hpSmall-v2.jpg',\n",
       "   'height': 181,\n",
       "   'width': 163,\n",
       "   'legacy': {},\n",
       "   'subType': 'hpSmall',\n",
       "   'crop_name': 'hpSmall'},\n",
       "  {'rank': 0,\n",
       "   'subtype': 'blogSmallInline',\n",
       "   'caption': None,\n",
       "   'credit': None,\n",
       "   'type': 'image',\n",
       "   'url': 'images/2014/06/16/technology/16bits/16bits-blogSmallInline-v2.jpg',\n",
       "   'height': 167,\n",
       "   'width': 151,\n",
       "   'legacy': {},\n",
       "   'subType': 'blogSmallInline',\n",
       "   'crop_name': 'blogSmallInline'},\n",
       "  {'rank': 0,\n",
       "   'subtype': 'mediumFlexible177',\n",
       "   'caption': None,\n",
       "   'credit': None,\n",
       "   'type': 'image',\n",
       "   'url': 'images/2014/06/16/technology/16bits/16bits-mediumFlexible177-v2.jpg',\n",
       "   'height': 196,\n",
       "   'width': 177,\n",
       "   'legacy': {},\n",
       "   'subType': 'mediumFlexible177',\n",
       "   'crop_name': 'mediumFlexible177'},\n",
       "  {'rank': 0,\n",
       "   'subtype': 'videoSixteenByNine310',\n",
       "   'caption': None,\n",
       "   'credit': None,\n",
       "   'type': 'image',\n",
       "   'url': 'images/2014/06/16/technology/16bits/16bits-videoSixteenByNine310-v2.jpg',\n",
       "   'height': 174,\n",
       "   'width': 310,\n",
       "   'legacy': {},\n",
       "   'subType': 'videoSixteenByNine310',\n",
       "   'crop_name': 'videoSixteenByNine310'},\n",
       "  {'rank': 0,\n",
       "   'subtype': 'videoSixteenByNine225',\n",
       "   'caption': None,\n",
       "   'credit': None,\n",
       "   'type': 'image',\n",
       "   'url': 'images/2014/06/16/technology/16bits/16bits-videoSixteenByNine225-v2.jpg',\n",
       "   'height': 126,\n",
       "   'width': 225,\n",
       "   'legacy': {},\n",
       "   'subType': 'videoSixteenByNine225',\n",
       "   'crop_name': 'videoSixteenByNine225'},\n",
       "  {'rank': 0,\n",
       "   'subtype': 'videoSixteenByNine96',\n",
       "   'caption': None,\n",
       "   'credit': None,\n",
       "   'type': 'image',\n",
       "   'url': 'images/2014/06/16/technology/16bits/16bits-videoSixteenByNine96-v2.jpg',\n",
       "   'height': 54,\n",
       "   'width': 96,\n",
       "   'legacy': {},\n",
       "   'subType': 'videoSixteenByNine96',\n",
       "   'crop_name': 'videoSixteenByNine96'},\n",
       "  {'rank': 0,\n",
       "   'subtype': 'thumbnail',\n",
       "   'caption': None,\n",
       "   'credit': None,\n",
       "   'type': 'image',\n",
       "   'url': 'images/2014/06/16/technology/16bits/16bits-thumbStandard.jpg',\n",
       "   'height': 75,\n",
       "   'width': 75,\n",
       "   'legacy': {'thumbnail': 'images/2014/06/16/technology/16bits/16bits-thumbStandard.jpg',\n",
       "    'thumbnailwidth': 75,\n",
       "    'thumbnailheight': 75},\n",
       "   'subType': 'thumbnail',\n",
       "   'crop_name': 'thumbStandard'},\n",
       "  {'rank': 0,\n",
       "   'subtype': 'thumbLarge',\n",
       "   'caption': None,\n",
       "   'credit': None,\n",
       "   'type': 'image',\n",
       "   'url': 'images/2014/06/16/technology/16bits/16bits-thumbLarge.jpg',\n",
       "   'height': 150,\n",
       "   'width': 150,\n",
       "   'legacy': {},\n",
       "   'subType': 'thumbLarge',\n",
       "   'crop_name': 'thumbLarge'},\n",
       "  {'rank': 0,\n",
       "   'subtype': 'blogSmallThumb',\n",
       "   'caption': None,\n",
       "   'credit': None,\n",
       "   'type': 'image',\n",
       "   'url': 'images/2014/06/16/technology/16bits/16bits-blogSmallThumb.jpg',\n",
       "   'height': 50,\n",
       "   'width': 50,\n",
       "   'legacy': {},\n",
       "   'subType': 'blogSmallThumb',\n",
       "   'crop_name': 'blogSmallThumb'}],\n",
       " 'headline': {'main': 'Microsoft Unveils Machine Learning for the Masses',\n",
       "  'kicker': 'Bits',\n",
       "  'content_kicker': None,\n",
       "  'print_headline': None,\n",
       "  'name': None,\n",
       "  'seo': None,\n",
       "  'sub': None},\n",
       " 'keywords': [{'name': 'subject',\n",
       "   'value': 'Cloud Computing',\n",
       "   'rank': 1,\n",
       "   'major': 'N'},\n",
       "  {'name': 'subject',\n",
       "   'value': 'Enterprise Computing',\n",
       "   'rank': 2,\n",
       "   'major': 'N'},\n",
       "  {'name': 'persons', 'value': 'Nadella, Satya', 'rank': 3, 'major': 'N'},\n",
       "  {'name': 'organizations',\n",
       "   'value': 'Microsoft Corporation',\n",
       "   'rank': 4,\n",
       "   'major': 'N'}],\n",
       " 'pub_date': '2014-06-16T16:00:31+0000',\n",
       " 'document_type': 'article',\n",
       " 'news_desk': 'Business',\n",
       " 'section_name': 'Technology',\n",
       " 'byline': {'original': 'By Quentin Hardy',\n",
       "  'person': [{'firstname': 'Quentin',\n",
       "    'middlename': None,\n",
       "    'lastname': 'Hardy',\n",
       "    'qualifier': None,\n",
       "    'title': None,\n",
       "    'role': 'reported',\n",
       "    'organization': '',\n",
       "    'rank': 1}],\n",
       "  'organization': None},\n",
       " 'type_of_material': 'News',\n",
       " '_id': 'nyt://article/f4637d6f-8f11-5849-9153-2f20e390448b',\n",
       " 'word_count': 541,\n",
       " 'uri': 'nyt://article/f4637d6f-8f11-5849-9153-2f20e390448b'}"
      ]
     },
     "execution_count": 6,
     "metadata": {},
     "output_type": "execute_result"
    }
   ],
   "source": [
    "articles_list[0]"
   ]
  },
  {
   "cell_type": "code",
   "execution_count": 7,
   "metadata": {},
   "outputs": [],
   "source": [
    "# Print the web_url of each stored article\n",
    "#print(\"Your Reading List\")\n",
    "#for article in articles_list:\n",
    "#    print(article[\"web_url\"],article[\"pub_date\"])"
   ]
  },
  {
   "cell_type": "code",
   "execution_count": 8,
   "metadata": {},
   "outputs": [
    {
     "data": {
      "text/html": [
       "<div>\n",
       "<style scoped>\n",
       "    .dataframe tbody tr th:only-of-type {\n",
       "        vertical-align: middle;\n",
       "    }\n",
       "\n",
       "    .dataframe tbody tr th {\n",
       "        vertical-align: top;\n",
       "    }\n",
       "\n",
       "    .dataframe thead th {\n",
       "        text-align: right;\n",
       "    }\n",
       "</style>\n",
       "<table border=\"1\" class=\"dataframe\">\n",
       "  <thead>\n",
       "    <tr style=\"text-align: right;\">\n",
       "      <th></th>\n",
       "      <th>web_url</th>\n",
       "      <th>snippet</th>\n",
       "      <th>headline</th>\n",
       "      <th>pub_date</th>\n",
       "      <th>keywords</th>\n",
       "      <th>news_desk</th>\n",
       "      <th>uri</th>\n",
       "      <th>pub_year</th>\n",
       "    </tr>\n",
       "  </thead>\n",
       "  <tbody>\n",
       "    <tr>\n",
       "      <th>0</th>\n",
       "      <td>https://bits.blogs.nytimes.com/2014/06/16/micr...</td>\n",
       "      <td>Microsoft plans to make predictive data analys...</td>\n",
       "      <td>{'main': 'Microsoft Unveils Machine Learning f...</td>\n",
       "      <td>2014-06-16T16:00:31+0000</td>\n",
       "      <td>[{'name': 'subject', 'value': 'Cloud Computing...</td>\n",
       "      <td>Business</td>\n",
       "      <td>nyt://article/f4637d6f-8f11-5849-9153-2f20e390...</td>\n",
       "      <td>2014</td>\n",
       "    </tr>\n",
       "    <tr>\n",
       "      <th>1</th>\n",
       "      <td>https://bits.blogs.nytimes.com/2015/11/09/goog...</td>\n",
       "      <td>Google is making much of its machine-learning ...</td>\n",
       "      <td>{'main': 'Google Offers Free Software in Bid t...</td>\n",
       "      <td>2015-11-09T14:00:22+0000</td>\n",
       "      <td>[{'name': 'subject', 'value': 'ARTIFICIAL INTE...</td>\n",
       "      <td>Business</td>\n",
       "      <td>nyt://article/3bfeffad-cc5e-55b9-8b5f-f118c2c8...</td>\n",
       "      <td>2015</td>\n",
       "    </tr>\n",
       "    <tr>\n",
       "      <th>2</th>\n",
       "      <td>https://open.blogs.nytimes.com/2016/08/09/summ...</td>\n",
       "      <td>One of our Search interns shares details about...</td>\n",
       "      <td>{'main': 'Summer Intern Report: Prototyping an...</td>\n",
       "      <td>2016-08-09T14:31:24+0000</td>\n",
       "      <td>[{'name': 'subject', 'value': 'Internships', '...</td>\n",
       "      <td></td>\n",
       "      <td>nyt://article/1a690f2c-ca8f-52b1-b10c-54c7fd54...</td>\n",
       "      <td>2016</td>\n",
       "    </tr>\n",
       "    <tr>\n",
       "      <th>3</th>\n",
       "      <td>https://www.nytimes.com/2019/12/18/education/a...</td>\n",
       "      <td>Artificial intelligence is starting to take ov...</td>\n",
       "      <td>{'main': 'The Machines Are Learning, and So Ar...</td>\n",
       "      <td>2019-12-18T10:00:28+0000</td>\n",
       "      <td>[{'name': 'subject', 'value': 'ARTIFICIAL INTE...</td>\n",
       "      <td>SpecialSections</td>\n",
       "      <td>nyt://article/0bf8d3d2-1fc8-560a-96c2-e416ed5f...</td>\n",
       "      <td>2019</td>\n",
       "    </tr>\n",
       "    <tr>\n",
       "      <th>4</th>\n",
       "      <td>https://www.nytimes.com/2018/03/08/learning/te...</td>\n",
       "      <td>Is the computer mind any easier to understand ...</td>\n",
       "      <td>{'main': 'Teaching Activities for: ‘Google Res...</td>\n",
       "      <td>2018-03-08T09:00:00+0000</td>\n",
       "      <td>[]</td>\n",
       "      <td>Learning</td>\n",
       "      <td>nyt://article/1566eab5-b1e7-5248-ad79-f793e1b5...</td>\n",
       "      <td>2018</td>\n",
       "    </tr>\n",
       "  </tbody>\n",
       "</table>\n",
       "</div>"
      ],
      "text/plain": [
       "                                             web_url  \\\n",
       "0  https://bits.blogs.nytimes.com/2014/06/16/micr...   \n",
       "1  https://bits.blogs.nytimes.com/2015/11/09/goog...   \n",
       "2  https://open.blogs.nytimes.com/2016/08/09/summ...   \n",
       "3  https://www.nytimes.com/2019/12/18/education/a...   \n",
       "4  https://www.nytimes.com/2018/03/08/learning/te...   \n",
       "\n",
       "                                             snippet  \\\n",
       "0  Microsoft plans to make predictive data analys...   \n",
       "1  Google is making much of its machine-learning ...   \n",
       "2  One of our Search interns shares details about...   \n",
       "3  Artificial intelligence is starting to take ov...   \n",
       "4  Is the computer mind any easier to understand ...   \n",
       "\n",
       "                                            headline  \\\n",
       "0  {'main': 'Microsoft Unveils Machine Learning f...   \n",
       "1  {'main': 'Google Offers Free Software in Bid t...   \n",
       "2  {'main': 'Summer Intern Report: Prototyping an...   \n",
       "3  {'main': 'The Machines Are Learning, and So Ar...   \n",
       "4  {'main': 'Teaching Activities for: ‘Google Res...   \n",
       "\n",
       "                   pub_date  \\\n",
       "0  2014-06-16T16:00:31+0000   \n",
       "1  2015-11-09T14:00:22+0000   \n",
       "2  2016-08-09T14:31:24+0000   \n",
       "3  2019-12-18T10:00:28+0000   \n",
       "4  2018-03-08T09:00:00+0000   \n",
       "\n",
       "                                            keywords        news_desk  \\\n",
       "0  [{'name': 'subject', 'value': 'Cloud Computing...         Business   \n",
       "1  [{'name': 'subject', 'value': 'ARTIFICIAL INTE...         Business   \n",
       "2  [{'name': 'subject', 'value': 'Internships', '...                    \n",
       "3  [{'name': 'subject', 'value': 'ARTIFICIAL INTE...  SpecialSections   \n",
       "4                                                 []         Learning   \n",
       "\n",
       "                                                 uri  pub_year  \n",
       "0  nyt://article/f4637d6f-8f11-5849-9153-2f20e390...      2014  \n",
       "1  nyt://article/3bfeffad-cc5e-55b9-8b5f-f118c2c8...      2015  \n",
       "2  nyt://article/1a690f2c-ca8f-52b1-b10c-54c7fd54...      2016  \n",
       "3  nyt://article/0bf8d3d2-1fc8-560a-96c2-e416ed5f...      2019  \n",
       "4  nyt://article/1566eab5-b1e7-5248-ad79-f793e1b5...      2018  "
      ]
     },
     "execution_count": 8,
     "metadata": {},
     "output_type": "execute_result"
    }
   ],
   "source": [
    "articles_list_df_raw=pd.DataFrame(articles_list)\n",
    "\n",
    "articles_list_df = pd.DataFrame(articles_list_df_raw[['web_url', 'snippet', 'headline', 'pub_date','keywords', 'news_desk', 'uri'] ])\n",
    "\n",
    "articles_list_df['pub_year'] = pd.DatetimeIndex(articles_list_df['pub_date']).year\n",
    "\n",
    "articles_list_df.head()"
   ]
  },
  {
   "cell_type": "code",
   "execution_count": 9,
   "metadata": {},
   "outputs": [
    {
     "data": {
      "text/html": [
       "<div>\n",
       "<style scoped>\n",
       "    .dataframe tbody tr th:only-of-type {\n",
       "        vertical-align: middle;\n",
       "    }\n",
       "\n",
       "    .dataframe tbody tr th {\n",
       "        vertical-align: top;\n",
       "    }\n",
       "\n",
       "    .dataframe thead th {\n",
       "        text-align: right;\n",
       "    }\n",
       "</style>\n",
       "<table border=\"1\" class=\"dataframe\">\n",
       "  <thead>\n",
       "    <tr style=\"text-align: right;\">\n",
       "      <th></th>\n",
       "      <th>web_url</th>\n",
       "      <th>snippet</th>\n",
       "      <th>headline</th>\n",
       "      <th>pub_date</th>\n",
       "      <th>keywords</th>\n",
       "      <th>news_desk</th>\n",
       "      <th>uri</th>\n",
       "      <th>pub_year</th>\n",
       "    </tr>\n",
       "  </thead>\n",
       "  <tbody>\n",
       "    <tr>\n",
       "      <th>0</th>\n",
       "      <td>https://bits.blogs.nytimes.com/2014/06/16/micr...</td>\n",
       "      <td>Microsoft plans to make predictive data analys...</td>\n",
       "      <td>{'main': 'Microsoft Unveils Machine Learning f...</td>\n",
       "      <td>2014-06-16T16:00:31+0000</td>\n",
       "      <td>[{'name': 'subject', 'value': 'Cloud Computing...</td>\n",
       "      <td>Business</td>\n",
       "      <td>nyt://article/f4637d6f-8f11-5849-9153-2f20e390...</td>\n",
       "      <td>2014</td>\n",
       "    </tr>\n",
       "    <tr>\n",
       "      <th>1</th>\n",
       "      <td>https://bits.blogs.nytimes.com/2015/11/09/goog...</td>\n",
       "      <td>Google is making much of its machine-learning ...</td>\n",
       "      <td>{'main': 'Google Offers Free Software in Bid t...</td>\n",
       "      <td>2015-11-09T14:00:22+0000</td>\n",
       "      <td>[{'name': 'subject', 'value': 'ARTIFICIAL INTE...</td>\n",
       "      <td>Business</td>\n",
       "      <td>nyt://article/3bfeffad-cc5e-55b9-8b5f-f118c2c8...</td>\n",
       "      <td>2015</td>\n",
       "    </tr>\n",
       "    <tr>\n",
       "      <th>2</th>\n",
       "      <td>https://open.blogs.nytimes.com/2016/08/09/summ...</td>\n",
       "      <td>One of our Search interns shares details about...</td>\n",
       "      <td>{'main': 'Summer Intern Report: Prototyping an...</td>\n",
       "      <td>2016-08-09T14:31:24+0000</td>\n",
       "      <td>[{'name': 'subject', 'value': 'Internships', '...</td>\n",
       "      <td></td>\n",
       "      <td>nyt://article/1a690f2c-ca8f-52b1-b10c-54c7fd54...</td>\n",
       "      <td>2016</td>\n",
       "    </tr>\n",
       "    <tr>\n",
       "      <th>3</th>\n",
       "      <td>https://www.nytimes.com/2019/12/18/education/a...</td>\n",
       "      <td>Artificial intelligence is starting to take ov...</td>\n",
       "      <td>{'main': 'The Machines Are Learning, and So Ar...</td>\n",
       "      <td>2019-12-18T10:00:28+0000</td>\n",
       "      <td>[{'name': 'subject', 'value': 'ARTIFICIAL INTE...</td>\n",
       "      <td>SpecialSections</td>\n",
       "      <td>nyt://article/0bf8d3d2-1fc8-560a-96c2-e416ed5f...</td>\n",
       "      <td>2019</td>\n",
       "    </tr>\n",
       "    <tr>\n",
       "      <th>4</th>\n",
       "      <td>https://www.nytimes.com/2018/03/08/learning/te...</td>\n",
       "      <td>Is the computer mind any easier to understand ...</td>\n",
       "      <td>{'main': 'Teaching Activities for: ‘Google Res...</td>\n",
       "      <td>2018-03-08T09:00:00+0000</td>\n",
       "      <td>[]</td>\n",
       "      <td>Learning</td>\n",
       "      <td>nyt://article/1566eab5-b1e7-5248-ad79-f793e1b5...</td>\n",
       "      <td>2018</td>\n",
       "    </tr>\n",
       "  </tbody>\n",
       "</table>\n",
       "</div>"
      ],
      "text/plain": [
       "                                             web_url  \\\n",
       "0  https://bits.blogs.nytimes.com/2014/06/16/micr...   \n",
       "1  https://bits.blogs.nytimes.com/2015/11/09/goog...   \n",
       "2  https://open.blogs.nytimes.com/2016/08/09/summ...   \n",
       "3  https://www.nytimes.com/2019/12/18/education/a...   \n",
       "4  https://www.nytimes.com/2018/03/08/learning/te...   \n",
       "\n",
       "                                             snippet  \\\n",
       "0  Microsoft plans to make predictive data analys...   \n",
       "1  Google is making much of its machine-learning ...   \n",
       "2  One of our Search interns shares details about...   \n",
       "3  Artificial intelligence is starting to take ov...   \n",
       "4  Is the computer mind any easier to understand ...   \n",
       "\n",
       "                                            headline  \\\n",
       "0  {'main': 'Microsoft Unveils Machine Learning f...   \n",
       "1  {'main': 'Google Offers Free Software in Bid t...   \n",
       "2  {'main': 'Summer Intern Report: Prototyping an...   \n",
       "3  {'main': 'The Machines Are Learning, and So Ar...   \n",
       "4  {'main': 'Teaching Activities for: ‘Google Res...   \n",
       "\n",
       "                   pub_date  \\\n",
       "0  2014-06-16T16:00:31+0000   \n",
       "1  2015-11-09T14:00:22+0000   \n",
       "2  2016-08-09T14:31:24+0000   \n",
       "3  2019-12-18T10:00:28+0000   \n",
       "4  2018-03-08T09:00:00+0000   \n",
       "\n",
       "                                            keywords        news_desk  \\\n",
       "0  [{'name': 'subject', 'value': 'Cloud Computing...         Business   \n",
       "1  [{'name': 'subject', 'value': 'ARTIFICIAL INTE...         Business   \n",
       "2  [{'name': 'subject', 'value': 'Internships', '...                    \n",
       "3  [{'name': 'subject', 'value': 'ARTIFICIAL INTE...  SpecialSections   \n",
       "4                                                 []         Learning   \n",
       "\n",
       "                                                 uri  pub_year  \n",
       "0  nyt://article/f4637d6f-8f11-5849-9153-2f20e390...      2014  \n",
       "1  nyt://article/3bfeffad-cc5e-55b9-8b5f-f118c2c8...      2015  \n",
       "2  nyt://article/1a690f2c-ca8f-52b1-b10c-54c7fd54...      2016  \n",
       "3  nyt://article/0bf8d3d2-1fc8-560a-96c2-e416ed5f...      2019  \n",
       "4  nyt://article/1566eab5-b1e7-5248-ad79-f793e1b5...      2018  "
      ]
     },
     "execution_count": 9,
     "metadata": {},
     "output_type": "execute_result"
    }
   ],
   "source": [
    "\n",
    "#Create Group By Categories\n",
    "articles_list_df_raw=pd.DataFrame(articles_list)\n",
    "\n",
    "articles_list_df = pd.DataFrame(articles_list_df_raw[['web_url', 'snippet', 'headline', 'pub_date','keywords', 'news_desk', 'uri'] ])\n",
    "\n",
    "articles_list_df['pub_year'] = pd.DatetimeIndex(articles_list_df['pub_date']).year\n",
    "\n",
    "articles_list_df.head()"
   ]
  },
  {
   "cell_type": "code",
   "execution_count": 10,
   "metadata": {},
   "outputs": [],
   "source": [
    "nyt_pub_year_grp = articles_list_df.groupby('pub_year')\n",
    "nyt_news_desk_grp = articles_list_df.groupby('news_desk')"
   ]
  },
  {
   "cell_type": "code",
   "execution_count": 11,
   "metadata": {},
   "outputs": [
    {
     "data": {
      "text/html": [
       "<div>\n",
       "<style scoped>\n",
       "    .dataframe tbody tr th:only-of-type {\n",
       "        vertical-align: middle;\n",
       "    }\n",
       "\n",
       "    .dataframe tbody tr th {\n",
       "        vertical-align: top;\n",
       "    }\n",
       "\n",
       "    .dataframe thead th {\n",
       "        text-align: right;\n",
       "    }\n",
       "</style>\n",
       "<table border=\"1\" class=\"dataframe\">\n",
       "  <thead>\n",
       "    <tr style=\"text-align: right;\">\n",
       "      <th></th>\n",
       "      <th>pub_year</th>\n",
       "      <th>total</th>\n",
       "    </tr>\n",
       "  </thead>\n",
       "  <tbody>\n",
       "    <tr>\n",
       "      <th>0</th>\n",
       "      <td>2010</td>\n",
       "      <td>9</td>\n",
       "    </tr>\n",
       "    <tr>\n",
       "      <th>1</th>\n",
       "      <td>2011</td>\n",
       "      <td>5</td>\n",
       "    </tr>\n",
       "    <tr>\n",
       "      <th>2</th>\n",
       "      <td>2012</td>\n",
       "      <td>7</td>\n",
       "    </tr>\n",
       "    <tr>\n",
       "      <th>3</th>\n",
       "      <td>2013</td>\n",
       "      <td>6</td>\n",
       "    </tr>\n",
       "    <tr>\n",
       "      <th>4</th>\n",
       "      <td>2014</td>\n",
       "      <td>6</td>\n",
       "    </tr>\n",
       "    <tr>\n",
       "      <th>5</th>\n",
       "      <td>2015</td>\n",
       "      <td>16</td>\n",
       "    </tr>\n",
       "    <tr>\n",
       "      <th>6</th>\n",
       "      <td>2016</td>\n",
       "      <td>11</td>\n",
       "    </tr>\n",
       "    <tr>\n",
       "      <th>7</th>\n",
       "      <td>2017</td>\n",
       "      <td>12</td>\n",
       "    </tr>\n",
       "    <tr>\n",
       "      <th>8</th>\n",
       "      <td>2018</td>\n",
       "      <td>21</td>\n",
       "    </tr>\n",
       "    <tr>\n",
       "      <th>9</th>\n",
       "      <td>2019</td>\n",
       "      <td>7</td>\n",
       "    </tr>\n",
       "  </tbody>\n",
       "</table>\n",
       "</div>"
      ],
      "text/plain": [
       "   pub_year  total\n",
       "0      2010      9\n",
       "1      2011      5\n",
       "2      2012      7\n",
       "3      2013      6\n",
       "4      2014      6\n",
       "5      2015     16\n",
       "6      2016     11\n",
       "7      2017     12\n",
       "8      2018     21\n",
       "9      2019      7"
      ]
     },
     "execution_count": 11,
     "metadata": {},
     "output_type": "execute_result"
    }
   ],
   "source": [
    "nyt_machine_learning_by_year_raw = pd.DataFrame(nyt_pub_year_grp['web_url'].count()).reset_index()\n",
    "nyt_machine_learning_by_year = nyt_machine_learning_by_year_raw.rename(columns={'web_url':'total'})\n",
    "nyt_machine_learning_by_year"
   ]
  },
  {
   "cell_type": "code",
   "execution_count": 12,
   "metadata": {},
   "outputs": [
    {
     "data": {
      "text/html": [
       "<div>\n",
       "<style scoped>\n",
       "    .dataframe tbody tr th:only-of-type {\n",
       "        vertical-align: middle;\n",
       "    }\n",
       "\n",
       "    .dataframe tbody tr th {\n",
       "        vertical-align: top;\n",
       "    }\n",
       "\n",
       "    .dataframe thead th {\n",
       "        text-align: right;\n",
       "    }\n",
       "</style>\n",
       "<table border=\"1\" class=\"dataframe\">\n",
       "  <thead>\n",
       "    <tr style=\"text-align: right;\">\n",
       "      <th></th>\n",
       "      <th>news_desk</th>\n",
       "      <th>total</th>\n",
       "    </tr>\n",
       "  </thead>\n",
       "  <tbody>\n",
       "    <tr>\n",
       "      <th>0</th>\n",
       "      <td></td>\n",
       "      <td>24</td>\n",
       "    </tr>\n",
       "    <tr>\n",
       "      <th>1</th>\n",
       "      <td>Business</td>\n",
       "      <td>32</td>\n",
       "    </tr>\n",
       "    <tr>\n",
       "      <th>2</th>\n",
       "      <td>Culture</td>\n",
       "      <td>1</td>\n",
       "    </tr>\n",
       "    <tr>\n",
       "      <th>3</th>\n",
       "      <td>Editorial</td>\n",
       "      <td>1</td>\n",
       "    </tr>\n",
       "    <tr>\n",
       "      <th>4</th>\n",
       "      <td>Express</td>\n",
       "      <td>1</td>\n",
       "    </tr>\n",
       "    <tr>\n",
       "      <th>5</th>\n",
       "      <td>Insider</td>\n",
       "      <td>1</td>\n",
       "    </tr>\n",
       "    <tr>\n",
       "      <th>6</th>\n",
       "      <td>Learning</td>\n",
       "      <td>9</td>\n",
       "    </tr>\n",
       "    <tr>\n",
       "      <th>7</th>\n",
       "      <td>Magazine</td>\n",
       "      <td>2</td>\n",
       "    </tr>\n",
       "    <tr>\n",
       "      <th>8</th>\n",
       "      <td>National</td>\n",
       "      <td>8</td>\n",
       "    </tr>\n",
       "    <tr>\n",
       "      <th>9</th>\n",
       "      <td>OpEd</td>\n",
       "      <td>6</td>\n",
       "    </tr>\n",
       "    <tr>\n",
       "      <th>10</th>\n",
       "      <td>Science</td>\n",
       "      <td>5</td>\n",
       "    </tr>\n",
       "    <tr>\n",
       "      <th>11</th>\n",
       "      <td>SpecialSections</td>\n",
       "      <td>2</td>\n",
       "    </tr>\n",
       "    <tr>\n",
       "      <th>12</th>\n",
       "      <td>T Magazine</td>\n",
       "      <td>1</td>\n",
       "    </tr>\n",
       "    <tr>\n",
       "      <th>13</th>\n",
       "      <td>TStyle</td>\n",
       "      <td>2</td>\n",
       "    </tr>\n",
       "    <tr>\n",
       "      <th>14</th>\n",
       "      <td>Technology</td>\n",
       "      <td>1</td>\n",
       "    </tr>\n",
       "    <tr>\n",
       "      <th>15</th>\n",
       "      <td>Weekend</td>\n",
       "      <td>2</td>\n",
       "    </tr>\n",
       "    <tr>\n",
       "      <th>16</th>\n",
       "      <td>Well</td>\n",
       "      <td>2</td>\n",
       "    </tr>\n",
       "  </tbody>\n",
       "</table>\n",
       "</div>"
      ],
      "text/plain": [
       "          news_desk  total\n",
       "0                       24\n",
       "1          Business     32\n",
       "2           Culture      1\n",
       "3         Editorial      1\n",
       "4           Express      1\n",
       "5           Insider      1\n",
       "6          Learning      9\n",
       "7          Magazine      2\n",
       "8          National      8\n",
       "9              OpEd      6\n",
       "10          Science      5\n",
       "11  SpecialSections      2\n",
       "12       T Magazine      1\n",
       "13           TStyle      2\n",
       "14       Technology      1\n",
       "15          Weekend      2\n",
       "16             Well      2"
      ]
     },
     "execution_count": 12,
     "metadata": {},
     "output_type": "execute_result"
    }
   ],
   "source": [
    "nyt_machine_learning_by_news_desk_raw = pd.DataFrame(nyt_news_desk_grp['web_url'].count()).reset_index()\n",
    "nyt_machine_learning_by_news_desk = nyt_machine_learning_by_news_desk_raw.rename(columns={'web_url': 'total'})\n",
    "nyt_machine_learning_by_news_desk"
   ]
  },
  {
   "cell_type": "code",
   "execution_count": 13,
   "metadata": {},
   "outputs": [
    {
     "data": {
      "text/plain": [
       "[<matplotlib.lines.Line2D at 0x11147497088>]"
      ]
     },
     "execution_count": 13,
     "metadata": {},
     "output_type": "execute_result"
    },
    {
     "data": {
      "image/png": "[encoded data removed]",
      "text/plain": [
       "<Figure size 1080x288 with 1 Axes>"
      ]
     },
     "metadata": {
      "needs_background": "light"
     },
     "output_type": "display_data"
    }
   ],
   "source": [
    "plt.figure(figsize=(15,4))\n",
    "plt.plot(articles_list_df['pub_year'].value_counts().sort_index())\n",
    "\n"
   ]
  },
  {
   "cell_type": "code",
   "execution_count": 14,
   "metadata": {},
   "outputs": [
    {
     "data": {
      "text/plain": [
       "[<matplotlib.lines.Line2D at 0x1114c164548>]"
      ]
     },
     "execution_count": 14,
     "metadata": {},
     "output_type": "execute_result"
    },
    {
     "data": {
      "image/png": "[encoded data removed]",
      "text/plain": [
       "<Figure size 1080x288 with 1 Axes>"
      ]
     },
     "metadata": {
      "needs_background": "light"
     },
     "output_type": "display_data"
    }
   ],
   "source": [
    "plt.figure(figsize=(15,4))\n",
    "plt.plot(articles_list_df['news_desk'].value_counts().sort_index())"
   ]
  },
  {
   "cell_type": "code",
   "execution_count": 15,
   "metadata": {},
   "outputs": [
    {
     "data": {
      "text/plain": [
       "MainBranch                1897\n",
       "Hobbyist                  1897\n",
       "Employment                1897\n",
       "Country                   1897\n",
       "Student                   1897\n",
       "EdLevel                   1897\n",
       "EduOther                  1897\n",
       "OrgSize                   1897\n",
       "DevType                   1897\n",
       "YearsCode                 1897\n",
       "YearsCodePro              1897\n",
       "CareerSat                 1897\n",
       "JobSat                    1897\n",
       "CompTotal                 1897\n",
       "ConvertedComp             1897\n",
       "WorkWeekHrs               1897\n",
       "LanguageWorkedWith        1897\n",
       "LanguageDesireNextYear    1897\n",
       "DatabaseWorkedWith        1897\n",
       "DatabaseDesireNextYear    1897\n",
       "PlatformWorkedWith        1897\n",
       "PlatformDesireNextYear    1897\n",
       "Age                       1897\n",
       "Gender                    1897\n",
       "Ethnicity                 1897\n",
       "DataScienceDomain         1897\n",
       "dtype: int64"
      ]
     },
     "execution_count": 15,
     "metadata": {},
     "output_type": "execute_result"
    }
   ],
   "source": [
    "\n",
    "# Prepare Stack Overflow Survey data for analysis (Filtering to a subset of Columns)\n",
    "stack_overflow_filtered_columns = stackoverflow_file[['MainBranch','Hobbyist','Employment','Country','Student','EdLevel','EduOther','OrgSize','DevType','YearsCode','YearsCodePro','CareerSat','JobSat','CompTotal','ConvertedComp','WorkWeekHrs','LanguageWorkedWith','LanguageDesireNextYear','DatabaseWorkedWith','DatabaseDesireNextYear','PlatformWorkedWith','PlatformDesireNextYear','Age','Gender','Ethnicity', 'DataScienceDomain'\n",
    "]]\n",
    "\n",
    "# Isolate US based surveys, with a Data Science Domain for which the records are complete (i.e. 'NaNs' removed)\n",
    "stack_overflow_filtered_USOnly = stack_overflow_filtered_columns.loc[stack_overflow_filtered_columns['Country'] == 'United States']\n",
    "stack_overflow_filtered_DataScienceDomain_USOnly = stack_overflow_filtered_USOnly.loc[stack_overflow_filtered_USOnly['DataScienceDomain'] == True]\n",
    "stack_overflow_df = pd.DataFrame(stack_overflow_filtered_DataScienceDomain_USOnly.dropna())\n",
    "#stack_overflow_coasts_df_raw = stack_overflow_df.loc[(stack_overflow_df == 'NY') | (stack_overflow_df == 'NJ') | (stack_overflow_df == 'CA') | (stack_overflow_df == 'WA')].reset_index()\n",
    "#stack_overflow_coasts_df_raw[\"Coast\"] = stack_overflow_coasts_df_raw['EMPLOYER_STATE']\n",
    "#stack_overflow_coasts_df_raw.rest_index()\n",
    "#stack_overflow_coasts_df = stack_overflow_df_raw[\"Coast\"].replace({'NY': 'East Coast', 'NJ': 'East Coast', 'CA': 'West Coast', 'WA': 'West Coast'}) \n",
    "stack_overflow_df.count()\n",
    "#stack_overflow_coasts_df.count()"
   ]
  },
  {
   "cell_type": "code",
   "execution_count": 16,
   "metadata": {},
   "outputs": [],
   "source": [
    "# Define Categories for Analysis\n",
    "# group by education level\n",
    "so_groupby_edu = stack_overflow_df.groupby('EdLevel') \n",
    "\n",
    "# group by gender\n",
    "so_groupby_gender = stack_overflow_df.groupby('Gender')\n",
    "\n",
    "so_groupby_devtype = stack_overflow_df.groupby('DevType')\n",
    "\n",
    "so_groupby_age = stack_overflow_df.groupby('Age')\n",
    "\n",
    "so_groupby_emp = stack_overflow_df.groupby('Employment')\n",
    "\n",
    "so_groupby_mainbranch = stack_overflow_df.groupby('MainBranch')\n",
    "\n",
    "so_groupby_degree_DevType = stack_overflow_df.groupby(['EdLevel','DevType'] ).agg({'Age': ['count']})\n"
   ]
  },
  {
   "cell_type": "code",
   "execution_count": 17,
   "metadata": {},
   "outputs": [
    {
     "name": "stdout",
     "output_type": "stream",
     "text": [
      "['Master’s degree (MA, MS, M.Eng., MBA, etc.)'\n",
      " 'Some college/university study without earning a degree'\n",
      " 'Bachelor’s degree (BA, BS, B.Eng., etc.)'\n",
      " 'Other doctoral degree (Ph.D, Ed.D., etc.)'\n",
      " 'Secondary school (e.g. American high school, German Realschule or Gymnasium, etc.)'\n",
      " 'Associate degree' 'Professional degree (JD, MD, etc.)'\n",
      " 'I never completed any formal education' 'Primary/elementary school']\n",
      "----------------------------------------------------------------------------------------------\n",
      "['Data or business analyst;Database administrator;Developer, back-end;Developer, desktop or enterprise applications;Developer, front-end;Developer, full-stack;Developer, mobile;DevOps specialist;Engineer, data;Engineer, site reliability;Engineering manager;Senior executive/VP;System administrator'\n",
      " 'Data or business analyst;Designer;Developer, back-end;Developer, desktop or enterprise applications;Developer, front-end;Developer, full-stack;DevOps specialist;System administrator'\n",
      " 'Developer, full-stack;DevOps specialist;Engineer, data' ...\n",
      " 'Database administrator;Designer;Developer, back-end;Developer, front-end;Developer, full-stack;Developer, mobile;Developer, QA or test;DevOps specialist;Engineer, data;Engineer, site reliability;Engineering manager;Product manager;Senior executive/VP;System administrator'\n",
      " 'Developer, back-end;Developer, desktop or enterprise applications;Developer, full-stack;Developer, QA or test;Scientist'\n",
      " 'Data scientist or machine learning specialist;Developer, desktop or enterprise applications;Developer, full-stack;DevOps specialist']\n"
     ]
    }
   ],
   "source": [
    "print(stack_overflow_df['EdLevel'].unique())\n",
    "print(\"-----------------------------------------------\"*2)\n",
    "print(stack_overflow_df['DevType'].unique())"
   ]
  },
  {
   "cell_type": "code",
   "execution_count": 18,
   "metadata": {},
   "outputs": [
    {
     "name": "stdout",
     "output_type": "stream",
     "text": [
      "EdLevel\n",
      "Associate degree                                                                       69\n",
      "Bachelor’s degree (BA, BS, B.Eng., etc.)                                              940\n",
      "I never completed any formal education                                                  7\n",
      "Master’s degree (MA, MS, M.Eng., MBA, etc.)                                           477\n",
      "Other doctoral degree (Ph.D, Ed.D., etc.)                                             145\n",
      "Primary/elementary school                                                               7\n",
      "Professional degree (JD, MD, etc.)                                                      7\n",
      "Secondary school (e.g. American high school, German Realschule or Gymnasium, etc.)     38\n",
      "Some college/university study without earning a degree                                207\n",
      "Name: Gender, dtype: int64\n",
      "----------------------------------------------------------------------------------------------\n"
     ]
    }
   ],
   "source": [
    "so_groupby_mainbranch['Gender'].count()\n",
    "print(so_groupby_edu['Gender'].count())\n",
    "print(\"-----------------------------------------------\"*2)"
   ]
  },
  {
   "cell_type": "code",
   "execution_count": 19,
   "metadata": {},
   "outputs": [],
   "source": [
    "stack_overflow_educlean_df = stack_overflow_df['EdLevel'].replace({'Master’s degree (MA, MS, M.Eng., MBA, etc.)':\"Masters\",\n",
    "       'Some college/university study without earning a degree':'Non Degree',\n",
    "       'Bachelor’s degree (BA, BS, B.Eng., etc.)':'Bachelors',\n",
    "       'Other doctoral degree (Ph.D, Ed.D., etc.)':'Doctoral',\n",
    "       'Secondary school (e.g. American high school, German Realschule or Gymnasium, etc.)':'Non Degree',\n",
    "       'Associate degree':'Associates', 'Professional degree (JD, MD, etc.)':'Masters',\n",
    "       'I never completed any formal education':'Non Degree',\n",
    "       'Primary/elementary school':'Non Degree'}).reset_index()"
   ]
  },
  {
   "cell_type": "code",
   "execution_count": 20,
   "metadata": {},
   "outputs": [],
   "source": [
    "so_unique_edulevel_df = pd.DataFrame(stack_overflow_educlean_df['EdLevel'].unique()).reset_index()"
   ]
  },
  {
   "cell_type": "code",
   "execution_count": 21,
   "metadata": {},
   "outputs": [],
   "source": [
    "del so_unique_edulevel_df['index']"
   ]
  },
  {
   "cell_type": "code",
   "execution_count": 22,
   "metadata": {},
   "outputs": [],
   "source": [
    "so_unique_edulevel_rename_column_df = so_unique_edulevel_df.rename(columns={'0':'EdLevel'})"
   ]
  },
  {
   "cell_type": "code",
   "execution_count": 23,
   "metadata": {},
   "outputs": [
    {
     "data": {
      "text/html": [
       "<div>\n",
       "<style scoped>\n",
       "    .dataframe tbody tr th:only-of-type {\n",
       "        vertical-align: middle;\n",
       "    }\n",
       "\n",
       "    .dataframe tbody tr th {\n",
       "        vertical-align: top;\n",
       "    }\n",
       "\n",
       "    .dataframe thead th {\n",
       "        text-align: right;\n",
       "    }\n",
       "</style>\n",
       "<table border=\"1\" class=\"dataframe\">\n",
       "  <thead>\n",
       "    <tr style=\"text-align: right;\">\n",
       "      <th></th>\n",
       "      <th>EdLevel</th>\n",
       "    </tr>\n",
       "  </thead>\n",
       "  <tbody>\n",
       "    <tr>\n",
       "      <th>0</th>\n",
       "      <td>Masters</td>\n",
       "    </tr>\n",
       "    <tr>\n",
       "      <th>1</th>\n",
       "      <td>Non Degree</td>\n",
       "    </tr>\n",
       "    <tr>\n",
       "      <th>2</th>\n",
       "      <td>Bachelors</td>\n",
       "    </tr>\n",
       "    <tr>\n",
       "      <th>3</th>\n",
       "      <td>Doctoral</td>\n",
       "    </tr>\n",
       "    <tr>\n",
       "      <th>4</th>\n",
       "      <td>Associates</td>\n",
       "    </tr>\n",
       "  </tbody>\n",
       "</table>\n",
       "</div>"
      ],
      "text/plain": [
       "      EdLevel\n",
       "0     Masters\n",
       "1  Non Degree\n",
       "2   Bachelors\n",
       "3    Doctoral\n",
       "4  Associates"
      ]
     },
     "execution_count": 23,
     "metadata": {},
     "output_type": "execute_result"
    }
   ],
   "source": [
    "so_unique_edulevel_df.rename(columns={0:'EdLevel'})"
   ]
  },
  {
   "cell_type": "code",
   "execution_count": 24,
   "metadata": {},
   "outputs": [],
   "source": [
    "edulevel_clean_grp = stack_overflow_educlean_df.groupby('EdLevel')\n",
    "\n",
    "so_counts_by_edulevel = edulevel_clean_grp['index'].count().reset_index()"
   ]
  },
  {
   "cell_type": "code",
   "execution_count": 25,
   "metadata": {},
   "outputs": [
    {
     "name": "stdout",
     "output_type": "stream",
     "text": [
      "['Masters', 'Non Degree', 'Bachelors', 'Doctoral', 'Associates']\n"
     ]
    }
   ],
   "source": [
    "#create pie chart \n",
    "#Labels for the sections of our pie chart\n",
    "labels = []\n",
    "for label in (so_unique_edulevel_df[0]):\n",
    "    labels.append(label)\n",
    "\n",
    "print(labels)"
   ]
  },
  {
   "cell_type": "code",
   "execution_count": 26,
   "metadata": {},
   "outputs": [
    {
     "name": "stdout",
     "output_type": "stream",
     "text": [
      "[69, 940, 145, 484, 259]\n"
     ]
    }
   ],
   "source": [
    "# The values of each section of the pie chart\n",
    "sizes = []\n",
    "for size in (so_counts_by_edulevel['index']):\n",
    "    sizes.append(size)\n",
    "    \n",
    "print(sizes)"
   ]
  },
  {
   "cell_type": "code",
   "execution_count": 27,
   "metadata": {},
   "outputs": [],
   "source": [
    "# The colors of each section of the pie chart\n",
    "colors = [\"red\", \"orange\", \"lightcoral\", \"lightskyblue\", \"yellow\"]"
   ]
  },
  {
   "cell_type": "code",
   "execution_count": 28,
   "metadata": {},
   "outputs": [],
   "source": [
    "# Tells matplotlib to seperate the \"Never Completed Formal Education\" section from the others\n",
    "explode = (0.1, 0, 0, 0, 0)"
   ]
  },
  {
   "cell_type": "code",
   "execution_count": 29,
   "metadata": {},
   "outputs": [
    {
     "data": {
      "text/plain": [
       "([<matplotlib.patches.Wedge at 0x1114c0a2348>,\n",
       "  <matplotlib.patches.Wedge at 0x1114c0ab3c8>,\n",
       "  <matplotlib.patches.Wedge at 0x1114c0b0808>,\n",
       "  <matplotlib.patches.Wedge at 0x1114c0b6cc8>,\n",
       "  <matplotlib.patches.Wedge at 0x1114c0c1548>],\n",
       " [Text(-1.0012080319316798, 0.6615001714251422, 'Masters'),\n",
       "  Text(-0.511533202823874, -0.9738243077725826, 'Non Degree'),\n",
       "  Text(1.0637009341138768, -0.28025046434442596, 'Bachelors'),\n",
       "  Text(0.7788543303656831, 0.7767792041955188, 'Doctoral'),\n",
       "  Text(-0.4722511526660379, 0.9934680914883973, 'Associates')],\n",
       " [Text(-0.5840380186268133, 0.3858750999979995, '3.6%'),\n",
       "  Text(-0.279018110631204, -0.5311768951486813, '49.6%'),\n",
       "  Text(0.5802005095166599, -0.15286388964241412, '7.6%'),\n",
       "  Text(0.42482963474491797, 0.4236977477430102, '25.5%'),\n",
       "  Text(-0.25759153781783883, 0.5418916862663985, '13.7%')])"
      ]
     },
     "execution_count": 29,
     "metadata": {},
     "output_type": "execute_result"
    },
    {
     "data": {
      "image/png": "[encoded data removed]",
      "text/plain": [
       "<Figure size 432x288 with 1 Axes>"
      ]
     },
     "metadata": {},
     "output_type": "display_data"
    }
   ],
   "source": [
    "# find % for each label charted \n",
    "plt.pie(sizes, explode=explode, labels=labels, colors=colors,\n",
    "        autopct=\"%1.1f%%\", shadow=True, startangle=140)"
   ]
  },
  {
   "cell_type": "code",
   "execution_count": 30,
   "metadata": {},
   "outputs": [],
   "source": [
    "h1b1_visas_file_filtered_columns = h1b1_visas_file[['CASE_STATUS', 'CASE_SUBMITTED', 'DECISION_DATE', 'EMPLOYER_NAME', 'EMPLOYER_CITY', 'EMPLOYER_STATE', 'EMPLOYER_POSTAL_CODE', 'JOB_TITLE', 'SOC_NAME', 'FULL_TIME_POSITION', 'PREVAILING_WAGE', 'PW_UNIT_OF_PAY', 'WAGE_RATE_OF_PAY_FROM','Domain', 'Role' ]]\n",
    "h1b1_visas_file_certified = h1b1_visas_file_filtered_columns.loc[h1b1_visas_file_filtered_columns['CASE_STATUS']=='CERTIFIED']\n",
    "h1b1_visas_file_certified_dropna = h1b1_visas_file_certified.dropna()\n",
    "h1b1_visas_file_certified_year = h1b1_visas_file_certified_dropna.loc[h1b1_visas_file_certified_dropna['PW_UNIT_OF_PAY'] == 'Year']"
   ]
  },
  {
   "cell_type": "code",
   "execution_count": 31,
   "metadata": {},
   "outputs": [
    {
     "data": {
      "text/plain": [
       "CASE_STATUS              10730\n",
       "CASE_SUBMITTED           10730\n",
       "DECISION_DATE            10730\n",
       "EMPLOYER_NAME            10730\n",
       "EMPLOYER_CITY            10730\n",
       "EMPLOYER_STATE           10730\n",
       "EMPLOYER_POSTAL_CODE     10730\n",
       "JOB_TITLE                10730\n",
       "SOC_NAME                 10730\n",
       "FULL_TIME_POSITION       10730\n",
       "PREVAILING_WAGE          10730\n",
       "PW_UNIT_OF_PAY           10730\n",
       "WAGE_RATE_OF_PAY_FROM    10730\n",
       "Domain                   10730\n",
       "Role                     10730\n",
       "dtype: int64"
      ]
     },
     "execution_count": 31,
     "metadata": {},
     "output_type": "execute_result"
    }
   ],
   "source": [
    "h1b1_visas_data_science = pd.DataFrame(h1b1_visas_file_certified_year.loc[h1b1_visas_file_certified_year['Domain'] == 'Data Science'])\n",
    "#df[\"A\"] = pd.to_numeric(df[\"A\"], downcast=\"float\")\n",
    "h1b1_visas_data_science['PREVAILING_WAGE'] = pd.to_numeric(h1b1_visas_data_science['PREVAILING_WAGE'], downcast = 'float', errors ='ignore')\n",
    "\n",
    "h1b1_visas_data_science.count()"
   ]
  },
  {
   "cell_type": "code",
   "execution_count": 32,
   "metadata": {},
   "outputs": [],
   "source": [
    "\n",
    "grp_data_science_role = h1b1_visas_data_science.groupby('Role')\n",
    "grp_data_science_state = h1b1_visas_data_science.groupby('EMPLOYER_STATE')\n",
    "grp_data_science_state_and_role = h1b1_visas_data_science.groupby(['EMPLOYER_STATE', 'Role'])"
   ]
  },
  {
   "cell_type": "code",
   "execution_count": 33,
   "metadata": {},
   "outputs": [],
   "source": [
    "h1b1_avg_salary_by_state_and_role = pd.DataFrame(grp_data_science_state_and_role['PREVAILING_WAGE'].mean()).reset_index()"
   ]
  },
  {
   "cell_type": "code",
   "execution_count": 34,
   "metadata": {},
   "outputs": [],
   "source": [
    "h1b1_avg_salary_ny = h1b1_avg_salary_by_state_and_role.loc[h1b1_avg_salary_by_state_and_role['EMPLOYER_STATE'] == 'NY']\n",
    "h1b1_avg_salary_nj = h1b1_avg_salary_by_state_and_role.loc[h1b1_avg_salary_by_state_and_role['EMPLOYER_STATE'] == 'NJ']\n",
    "h1b1_avg_salary_ca = h1b1_avg_salary_by_state_and_role.loc[h1b1_avg_salary_by_state_and_role['EMPLOYER_STATE'] == 'CA']"
   ]
  },
  {
   "cell_type": "code",
   "execution_count": 35,
   "metadata": {},
   "outputs": [],
   "source": [
    "roles = []\n",
    "for role in (h1b1_avg_salary_ny['Role']):\n",
    "    roles.append(role)"
   ]
  },
  {
   "cell_type": "code",
   "execution_count": 36,
   "metadata": {},
   "outputs": [],
   "source": [
    "salary = []\n",
    "for sal in (h1b1_avg_salary_ny['PREVAILING_WAGE']):\n",
    "    salary.append(sal)"
   ]
  },
  {
   "cell_type": "code",
   "execution_count": 37,
   "metadata": {},
   "outputs": [
    {
     "data": {
      "text/plain": [
       "Text(0, 0.5, 'Average Salary')"
      ]
     },
     "execution_count": 37,
     "metadata": {},
     "output_type": "execute_result"
    },
    {
     "data": {
      "image/png": "[encoded data removed]",
      "text/plain": [
       "<Figure size 1440x720 with 1 Axes>"
      ]
     },
     "metadata": {
      "needs_background": "light"
     },
     "output_type": "display_data"
    }
   ],
   "source": [
    "x_axis = np.arange(len(roles))\n",
    "plt.figure(figsize=(20,10))\n",
    "plt.bar(x_axis, salary, color='blue', alpha=0.5, align=\"center\")\n",
    "tick_locations = [value for value in x_axis]\n",
    "plt.xticks(tick_locations, roles, rotation=\"horizontal\")\n",
    "#plt.xlim(-0.75, len(x_axis)-0.25)\n",
    "plt.ylim(0, max(salary)+20000)\n",
    "\n",
    "# Give our chart some labels and a tile\n",
    "plt.title(\"Average Salary for H1 Visas\")\n",
    "plt.xlabel(\"Role\")\n",
    "plt.ylabel(\"Average Salary\")"
   ]
  },
  {
   "cell_type": "code",
   "execution_count": 38,
   "metadata": {},
   "outputs": [],
   "source": [
    "h1b1_counts_by_state_and_role = pd.DataFrame(grp_data_science_state_and_role['PREVAILING_WAGE'].count()).reset_index()"
   ]
  },
  {
   "cell_type": "code",
   "execution_count": 39,
   "metadata": {},
   "outputs": [],
   "source": [
    "h1b1_counts_by_state_and_role_ny = h1b1_counts_by_state_and_role.loc[h1b1_counts_by_state_and_role['EMPLOYER_STATE'] == 'NY']\n",
    "h1b1_counts_by_state_and_role_nj = h1b1_counts_by_state_and_role.loc[h1b1_counts_by_state_and_role['EMPLOYER_STATE'] == 'NJ']\n",
    "h1b1_counts_by_state_and_role_ca = h1b1_counts_by_state_and_role.loc[h1b1_counts_by_state_and_role['EMPLOYER_STATE'] == 'CA']"
   ]
  },
  {
   "cell_type": "code",
   "execution_count": 40,
   "metadata": {},
   "outputs": [],
   "source": [
    "roles = []\n",
    "for role in (h1b1_counts_by_state_and_role_ny['Role']):\n",
    "    roles.append(role)"
   ]
  },
  {
   "cell_type": "code",
   "execution_count": 41,
   "metadata": {},
   "outputs": [],
   "source": [
    "counts = []\n",
    "for count in (h1b1_counts_by_state_and_role_ny['PREVAILING_WAGE']):\n",
    "    counts.append(count)"
   ]
  },
  {
   "cell_type": "code",
   "execution_count": 42,
   "metadata": {},
   "outputs": [
    {
     "data": {
      "text/plain": [
       "Text(0, 0.5, 'Number of H1 Visas')"
      ]
     },
     "execution_count": 42,
     "metadata": {},
     "output_type": "execute_result"
    },
    {
     "data": {
      "image/png": "[encoded data removed]",
      "text/plain": [
       "<Figure size 1440x720 with 1 Axes>"
      ]
     },
     "metadata": {
      "needs_background": "light"
     },
     "output_type": "display_data"
    }
   ],
   "source": [
    "\n",
    "x_axis = np.arange(len(roles))\n",
    "plt.figure(figsize=(20,10))\n",
    "plt.bar(x_axis, counts, color='indigo', alpha=0.5, align=\"center\")\n",
    "tick_locations = [value for value in x_axis]\n",
    "plt.xticks(tick_locations, roles)\n",
    "plt.xlim(-0.75, len(x_axis)-0.25)\n",
    "plt.ylim(0, max(counts)+25)\n",
    "\n",
    "# Give our chart some labels and a tile\n",
    "plt.title(\"NY Data Science Visas by Role\")\n",
    "plt.xlabel(\"Role\")\n",
    "plt.ylabel(\"Number of H1 Visas\")"
   ]
  }
 ],
 "metadata": {
  "kernelspec": {
   "display_name": "Python 3",
   "language": "python",
   "name": "python3"
  },
  "language_info": {
   "codemirror_mode": {
    "name": "ipython",
    "version": 3
   },
   "file_extension": ".py",
   "mimetype": "text/x-python",
   "name": "python",
   "nbconvert_exporter": "python",
   "pygments_lexer": "ipython3",
   "version": "3.7.6"
  }
 },
 "nbformat": 4,
 "nbformat_minor": 4
}
