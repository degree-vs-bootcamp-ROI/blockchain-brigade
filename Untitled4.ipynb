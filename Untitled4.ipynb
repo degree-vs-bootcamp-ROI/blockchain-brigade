{
 "cells": [
  {
   "cell_type": "code",
   "execution_count": 1,
   "metadata": {},
   "outputs": [],
   "source": [
    "api = \"HjrcyWsWyOsIQjLt6PGC5PuESKSvZiCj\""
   ]
  },
  {
   "cell_type": "code",
   "execution_count": 2,
   "metadata": {},
   "outputs": [
    {
     "ename": "SyntaxError",
     "evalue": "invalid syntax (<ipython-input-2-ea01a32a9196>, line 1)",
     "output_type": "error",
     "traceback": [
      "\u001b[1;36m  File \u001b[1;32m\"<ipython-input-2-ea01a32a9196>\"\u001b[1;36m, line \u001b[1;32m1\u001b[0m\n\u001b[1;33m    if (!require(\"jsonlite\")) install.packages(\"jsonlite\")\u001b[0m\n\u001b[1;37m        ^\u001b[0m\n\u001b[1;31mSyntaxError\u001b[0m\u001b[1;31m:\u001b[0m invalid syntax\n"
     ]
    }
   ],
   "source": [
    "if (!require(\"jsonlite\")) install.packages(\"jsonlite\")\n",
    "library(jsonlite)\n",
    "#################################################################################\n",
    "####            function - search news article with API                      ####\n",
    "nytime = function (keyword,year) {\n",
    "  searchQ = URLencode(keyword)\n",
    "  url = paste('http://api.nytimes.com/svc/search/v2/articlesearch.json?q=',searchQ,\n",
    "              '&begin_date=',year,'0101&end_date=',year,'1231&api-key=',api,sep=\"\")\n",
    "  #get the total number of search results\n",
    "  initialsearch = fromJSON(url,flatten = T)\n",
    "  maxPages = round((initialsearch$response$meta$hits / 10)-1)\n",
    "  \n",
    "  #try with the max page limit at 10\n",
    "  maxPages = ifelse(maxPages >= 10, 10, maxPages)\n",
    "  \n",
    "  #creat a empty data frame\n",
    "  df = data.frame(id=as.numeric(),created_time=character(),snippet=character(),\n",
    "                  headline=character())\n",
    "  \n",
    "  #save search results into data frame\n",
    "  for(i in 0:maxPages){\n",
    "    #get the search results of each page\n",
    "    nytSearch = fromJSON(paste0(url, \"&page=\", i), flatten = T) \n",
    "    temp = data.frame(id=1:nrow(nytSearch$response$docs),\n",
    "                      created_time = nytSearch$response$docs$pub_date,\n",
    "                      snippet = nytSearch$response$docs$snippet,\n",
    "                      headline = nytSearch$response$docs$headline.main)\n",
    "    df=rbind(df,temp)\n",
    "    Sys.sleep(5) #sleep for 5 second\n",
    "  }\n",
    "  return(df)\n",
    "}\n",
    "#################################################################################"
   ]
  }
 ],
 "metadata": {
  "kernelspec": {
   "display_name": "Python 3",
   "language": "python",
   "name": "python3"
  }
 },
 "nbformat": 4,
 "nbformat_minor": 2
}
